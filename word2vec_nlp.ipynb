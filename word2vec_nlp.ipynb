{
  "nbformat": 4,
  "nbformat_minor": 0,
  "metadata": {
    "colab": {
      "provenance": [],
      "collapsed_sections": [
        "XFh4BRFVCg9M"
      ],
      "authorship_tag": "ABX9TyMCI8lGtjcJIGmPrNtQwL1G",
      "include_colab_link": true
    },
    "kernelspec": {
      "name": "python3",
      "display_name": "Python 3"
    },
    "language_info": {
      "name": "python"
    }
  },
  "cells": [
    {
      "cell_type": "markdown",
      "metadata": {
        "id": "view-in-github",
        "colab_type": "text"
      },
      "source": [
        "<a href=\"https://colab.research.google.com/github/4entertainment/nlp_works/blob/main/word2vec_nlp.ipynb\" target=\"_parent\"><img src=\"https://colab.research.google.com/assets/colab-badge.svg\" alt=\"Open In Colab\"/></a>"
      ]
    },
    {
      "cell_type": "markdown",
      "source": [
        "## **word2vec model with gensim library**"
      ],
      "metadata": {
        "id": "eJExVpV-LXiM"
      }
    },
    {
      "cell_type": "markdown",
      "source": [
        "# first part: model&vector"
      ],
      "metadata": {
        "id": "EU8gk_UtWYVu"
      }
    },
    {
      "cell_type": "code",
      "source": [
        "import numpy as np\n",
        "from gensim.models import Word2Vec\n",
        "from sklearn.manifold import TSNE\n",
        "import matplotlib.pyplot as plt"
      ],
      "metadata": {
        "id": "A7A2eNjVCv1o"
      },
      "execution_count": 1,
      "outputs": []
    },
    {
      "cell_type": "code",
      "source": [
        "f = open('/content/sample_data/hurriyet.txt','r', encoding='utf8' )\n",
        "text = f.read()\n",
        "# reading .txt dataset"
      ],
      "metadata": {
        "id": "R2S5e5MGNPGv"
      },
      "execution_count": 2,
      "outputs": []
    },
    {
      "cell_type": "code",
      "source": [
        "t_list = text.split('\\n')\n",
        "# in hurriyet.txt, sentences seperated with '\\n' characters. doing this for seperate sentences in corpus\n",
        "\n",
        "corpus = []\n",
        "for sentence in t_list:\n",
        "  corpus.append(sentence.split())\n",
        "# every loop, we get one sentence. words in sentence, seperated with split() and adding to the corpus list.\n",
        "# words have tokens and tokenized words adding to the corpus."
      ],
      "metadata": {
        "id": "l9QVo1YzNwLG"
      },
      "execution_count": 4,
      "outputs": []
    },
    {
      "cell_type": "code",
      "source": [
        "print(corpus[:10])\n",
        "# looking at the top 10 sentence in corpus"
      ],
      "metadata": {
        "colab": {
          "base_uri": "https://localhost:8080/"
        },
        "id": "ugqBWPAJOmzF",
        "outputId": "6b644012-c8b9-4e4f-c2a3-ca5b82055ee6"
      },
      "execution_count": 6,
      "outputs": [
        {
          "output_type": "stream",
          "name": "stdout",
          "text": [
            "[['iran', 'devlet', 'televizyonu', 'ülkedeki', 'eyaletin', 'sinde', 'yapılan', 'reformcuları', 'protesto', 'amaçlı', 'yürüyüşlere', 'milyonlarca', 'kişinin', 'katıldığını', 'bildirdi'], ['gösterilerde', 'fitnecilere', 'ölüm', 'münafıklara', 'ölüm', 'abd', 'ye', 'ölüm', 'ingiltere', 'ye', 'ölüm', 'sloganları', 'atıldı'], ['dini', 'lider', 'ali', 'hamaney', 've', 'cumhurbaşkanı', 'mahmud', 'ahmedinejad', 'ı', 'destekleyen', 'iranlılar', 'son', 'olaylarda', 'yeğeni', 'öldürülen', 'mir', 'hüseyin', 'musevi', 'başta', 'olmak', 'üzere', 'muhalefet', 'liderlerini', 'kınadılar'], ['musevi', 'ye', 'ölüm', 've', 'idam', 'idam', 'sloganları', 'duyuldu'], ['muhalefet', 'liderleri', 'kaçtı', 'mı', 'aşure', 'günü', 'yaşanan', 'çatışmalarda', 'devlet', 'kaynaklarına', 'göre', 'u', 'terörist', 'olmak', 'üzere', 'kişi', 'ölmüştü'], ['den', 'fazla', 'kişinin', 'yaralandığı', 'olaylar', 'sırasında', 'en', 'az', 'kişi', 'tutuklanmıştı'], ['öte', 'yandan', 'iran', 'haber', 'ajansı', 'irna', 'muhalif', 'liderler', 'mir', 'hüseyin', 'musevi', 've', 'mehdi', 'kerrubi', 'nin', 'başkentten', 'kaçarak', 'ülkenin', 'kuzeyine', 'geçtiğini', 'ileri', 'sürdü', 'ancak', 'muhalefet', 'iddiayı', 'yalanladı'], ['hamaney', 'in', 'bir', 'dönem', 'korumalığını', 'yapan', 've', 'şu', 'anda', 'fransa', 'da', 'saklandığı', 'söylenen', 'bir', 'kişinin', 'muhalefete', 'verdiği', 'bilgilere', 'göre', 'münzevi', 'yaşamı', 'na', 'rağmen', 'dini', 'liderin', 'havyara', 'karşı', 'korkunç', 'bir', 'iştahı', 'var'], ['baston', 've', 'at', 'meraklısı', 'hamaney', 'aynı', 'zamanda', 'değerli', 'mücevherlerle', 'bezenmiş', 'bastonların', 've', 'cins', 'atların', 'koleksiyonunu', 'yapıyor'], ['hamaney', 'in', 'antika', 'bastonlarının', 'sayısı']]\n"
          ]
        }
      ]
    },
    {
      "cell_type": "code",
      "source": [
        "# model training\n",
        "model = Word2Vec(corpus, vector_size = 100, window = 5, min_count = 5, sg=1)\n",
        "# corpus is the tokens for training\n",
        "# vector_size = 100 is the word vectors' length(size)\n",
        "# window = 5 is the window words for center word\n",
        "# with the # min_count = 5 parameter, we get the words that are mentioned in the corpus at least 5 times\n",
        "# sg=1 is the skipgram algorithm usage. default is the CBOW algorithm."
      ],
      "metadata": {
        "id": "fY-zO9vaPXos"
      },
      "execution_count": 9,
      "outputs": []
    },
    {
      "cell_type": "code",
      "source": [
        "model.wv['izmir']\n",
        "# looking at what is in model. looking at the 'izmir' vector.\n",
        "# wv is the shortcut of the wordvector\n",
        "# 'izmir' vector is stored as numpy array with 100 vector size."
      ],
      "metadata": {
        "colab": {
          "base_uri": "https://localhost:8080/"
        },
        "id": "S4PVeCxPRe0m",
        "outputId": "ac5b1632-4735-4499-affe-0703ffe162b4"
      },
      "execution_count": 11,
      "outputs": [
        {
          "output_type": "execute_result",
          "data": {
            "text/plain": [
              "array([-0.00438808,  0.20127206,  0.18963122,  0.06241471,  0.08554225,\n",
              "       -0.2462995 , -0.04536044,  0.35806847, -0.08118525, -0.17806593,\n",
              "       -0.00523561, -0.17235513, -0.2721355 ,  0.17545274,  0.05960625,\n",
              "       -0.07882903, -0.0128539 , -0.15427288,  0.02636031, -0.26481992,\n",
              "        0.15749645, -0.00878973,  0.13120422, -0.16711278, -0.05513706,\n",
              "        0.09914296, -0.18024632,  0.08393726, -0.08893581,  0.03318792,\n",
              "        0.17369847, -0.09758963,  0.05494471, -0.08471146, -0.04888723,\n",
              "        0.07378121,  0.03389489, -0.03501828, -0.1446878 , -0.16455935,\n",
              "        0.0755985 , -0.20361495, -0.06423069,  0.04757376,  0.20780066,\n",
              "       -0.0449911 , -0.15261315,  0.10944349,  0.15335827,  0.0836935 ,\n",
              "        0.16657877, -0.1215912 , -0.07922037,  0.01809595, -0.1143098 ,\n",
              "        0.19572312,  0.06859846, -0.05237965, -0.11053339, -0.1067572 ,\n",
              "       -0.08232542,  0.09210307, -0.00464986,  0.06272619, -0.24925196,\n",
              "        0.18052073, -0.03950705,  0.09839243, -0.08622036,  0.18498594,\n",
              "       -0.08351529,  0.01726164,  0.29861635, -0.03778746,  0.14655858,\n",
              "        0.1193867 ,  0.03102965, -0.00961044, -0.16179332,  0.12023461,\n",
              "       -0.19823462, -0.0629376 , -0.24061452,  0.16252872,  0.02515895,\n",
              "        0.07634182, -0.01719929,  0.03756893,  0.02886233,  0.05546125,\n",
              "        0.16018912,  0.11835535,  0.12229729,  0.03020744,  0.23432459,\n",
              "        0.12125399, -0.00711805, -0.11701126,  0.01708229,  0.05378116],\n",
              "      dtype=float32)"
            ]
          },
          "metadata": {},
          "execution_count": 11
        }
      ]
    },
    {
      "cell_type": "code",
      "source": [
        "model.wv.most_similar('kanada')\n",
        "# looking at the similar vectors for given vectors\n",
        "# used for 'kanada' vector. getting similar countries to 'kanada'\n",
        "# output is a list with 10 elements. elements of list are tuple data types.\n",
        "# in tuples, there are similar country names to 'ispanya'. and similarity point to 2 elements.\n",
        "#"
      ],
      "metadata": {
        "colab": {
          "base_uri": "https://localhost:8080/"
        },
        "id": "ZRjxt1UhSNMM",
        "outputId": "b0faad05-6827-49fe-bdc2-74cdb1480b42"
      },
      "execution_count": 15,
      "outputs": [
        {
          "output_type": "execute_result",
          "data": {
            "text/plain": [
              "[('avustralya', 0.9472141265869141),\n",
              " ('japonya', 0.9371785521507263),\n",
              " ('romanya', 0.9360144734382629),\n",
              " ('polonya', 0.934188723564148),\n",
              " ('hollanda', 0.9292877912521362),\n",
              " ('endonezya', 0.9207500219345093),\n",
              " ('meksika', 0.920100748538971),\n",
              " ('brezilya', 0.9142681956291199),\n",
              " ('küba', 0.9017983675003052),\n",
              " ('belçika', 0.8991582989692688)]"
            ]
          },
          "metadata": {},
          "execution_count": 15
        }
      ]
    },
    {
      "cell_type": "code",
      "source": [
        "# another example:\n",
        "model.wv.most_similar('pazartesi')"
      ],
      "metadata": {
        "colab": {
          "base_uri": "https://localhost:8080/"
        },
        "id": "CTdQ6ND9S5Ec",
        "outputId": "f4d9dcc2-154a-4d41-cd1a-2384c57b1ef5"
      },
      "execution_count": 19,
      "outputs": [
        {
          "output_type": "execute_result",
          "data": {
            "text/plain": [
              "[('perşembe', 0.9766258597373962),\n",
              " ('cuma', 0.958622932434082),\n",
              " ('salı', 0.9520052075386047),\n",
              " ('pazar', 0.941247820854187),\n",
              " ('akşamı', 0.937641441822052),\n",
              " ('noel', 0.9253467917442322),\n",
              " ('gecesi', 0.9241012930870056),\n",
              " ('turu', 0.9236829876899719),\n",
              " ('çarşamba', 0.9215294122695923),\n",
              " ('sabahı', 0.920436680316925)]"
            ]
          },
          "metadata": {},
          "execution_count": 19
        }
      ]
    },
    {
      "cell_type": "code",
      "source": [
        "# another example:\n",
        "model.wv.most_similar('akşam')"
      ],
      "metadata": {
        "colab": {
          "base_uri": "https://localhost:8080/"
        },
        "id": "O8uQFVjVUFGB",
        "outputId": "e86d1f16-28a0-456d-ee32-80be0548d8b2"
      },
      "execution_count": 23,
      "outputs": [
        {
          "output_type": "execute_result",
          "data": {
            "text/plain": [
              "[('saatlerinde', 0.9221928715705872),\n",
              " ('sabah', 0.9051722288131714),\n",
              " ('gece', 0.9048231244087219),\n",
              " ('pazartesi', 0.8920698761940002),\n",
              " ('öğle', 0.8869490623474121),\n",
              " ('saatle', 0.8830459117889404),\n",
              " ('perşembe', 0.8807395100593567),\n",
              " ('cuma', 0.8797317743301392),\n",
              " ('akşamı', 0.8727474212646484),\n",
              " ('günlük', 0.8704431056976318)]"
            ]
          },
          "metadata": {},
          "execution_count": 23
        }
      ]
    },
    {
      "cell_type": "code",
      "source": [
        "# saving and loading the model\n",
        "model.save('word2vec.model') # saves the local path in colab\n",
        "model = Word2Vec.load('word2vec.model')"
      ],
      "metadata": {
        "id": "aQGDoPXwUYcs"
      },
      "execution_count": 24,
      "outputs": []
    },
    {
      "cell_type": "markdown",
      "source": [
        "# Using TSNE and Graphing Vectors in Project"
      ],
      "metadata": {
        "id": "sa3_faBfVmy0"
      }
    },
    {
      "cell_type": "code",
      "source": [
        "# the function gets model and the searching word for fin the closes ones to this word.\n",
        "def closestwords_tsneplot(model, word):\n",
        "    word_vectors = np.empty((0, 100))\n",
        "    word_labels = [word]\n",
        "\n",
        "    close_words = model.wv.most_similar(word)\n",
        "\n",
        "    word_vectors = np.append(word_vectors, np.array([model.wv[word]]), axis=0)\n",
        "\n",
        "    for w, _ in close_words:\n",
        "        word_labels.append(w)\n",
        "        word_vectors = np.append(word_vectors, np.array([model.wv[w]]), axis=0)\n",
        "\n",
        "    perplexity = min(30, word_vectors.shape[0] - 1)  # Calculate perplexity dynamically\n",
        "\n",
        "    tsne = TSNE(random_state=0, perplexity=perplexity)  # Pass perplexity to TSNE\n",
        "    Y = tsne.fit_transform(word_vectors)\n",
        "\n",
        "    x_coords = Y[:, 0]\n",
        "    y_coords = Y[:, 1]\n",
        "\n",
        "    plt.scatter(x_coords, y_coords)\n",
        "\n",
        "    for label, x, y in zip(word_labels, x_coords, y_coords):\n",
        "        plt.annotate(label, xy=(x, y), xytext=(5, -2), textcoords='offset points')\n",
        "\n",
        "    plt.show()\n",
        "\n",
        "'''\n",
        "The provided code defines a Python function named closestwords_tsneplot which takes as input a Word2Vec model and a target word.\n",
        "The function aims to visualize the semantic similarity of the target word and its closest words in a two-dimensional space using the t-SNE (t-Distributed Stochastic Neighbor Embedding) algorithm.\n",
        "It begins by initializing empty arrays for word vectors and word labels, and then retrieves the most similar words to the given target word from the Word2Vec model.\n",
        "The target word's vector is added to the word vectors array, followed by the vectors of its similar words.\n",
        "The perplexity value is calculated as the minimum of 30 and one less than the total number of word vectors, ensuring a valid range for t-SNE. The t-SNE transformation is performed on the word vectors, resulting in two-dimensional coordinates.\n",
        "These coordinates are then used to create a scatter plot, with each point representing a word's position in the embedded space.\n",
        "The word labels are annotated near their respective points on the plot.\n",
        "Finally, when the function is called with a model and a target word (e.g., 'hollanda'), it generates a visualization that displays the target word and its semantically related words in a reduced-dimensional space, providing insights into their relationships.\n",
        "'''\n",
        "\n"
      ],
      "metadata": {
        "colab": {
          "base_uri": "https://localhost:8080/",
          "height": 192
        },
        "id": "pSDtA2pbWB2N",
        "outputId": "cf9f329f-7b86-4d14-ab27-ef3f54e8dabd"
      },
      "execution_count": 43,
      "outputs": [
        {
          "output_type": "execute_result",
          "data": {
            "text/plain": [
              "\" \\nThe provided code defines a Python function named closestwords_tsneplot which takes as input a Word2Vec model and a target word. \\nThe function aims to visualize the semantic similarity of the target word and its closest words in a two-dimensional space using the t-SNE (t-Distributed Stochastic Neighbor Embedding) algorithm. \\nIt begins by initializing empty arrays for word vectors and word labels, and then retrieves the most similar words to the given target word from the Word2Vec model. \\nThe target word's vector is added to the word vectors array, followed by the vectors of its similar words. \\nThe perplexity value is calculated as the minimum of 30 and one less than the total number of word vectors, ensuring a valid range for t-SNE. The t-SNE transformation is performed on the word vectors, resulting in two-dimensional coordinates. \\nThese coordinates are then used to create a scatter plot, with each point representing a word's position in the embedded space. \\nThe word labels are annotated near their respective points on the plot. \\nFinally, when the function is called with a model and a target word (e.g., 'hollanda'), it generates a visualization that displays the target word and its semantically related words in a reduced-dimensional space, providing insights into their relationships.\\n\""
            ],
            "application/vnd.google.colaboratory.intrinsic+json": {
              "type": "string"
            }
          },
          "metadata": {},
          "execution_count": 43
        }
      ]
    },
    {
      "cell_type": "code",
      "source": [
        "closestwords_tsneplot(model, 'hollanda')"
      ],
      "metadata": {
        "colab": {
          "base_uri": "https://localhost:8080/",
          "height": 430
        },
        "id": "VjeI37oopWNg",
        "outputId": "109c9c11-a3fa-420e-a790-f7384619b0fe"
      },
      "execution_count": 47,
      "outputs": [
        {
          "output_type": "display_data",
          "data": {
            "text/plain": [
              "<Figure size 640x480 with 1 Axes>"
            ],
            "image/png": "[encoded data removed]"
          },
          "metadata": {}
        }
      ]
    },
    {
      "cell_type": "code",
      "source": [],
      "metadata": {
        "id": "TP4MZcXipc2P"
      },
      "execution_count": null,
      "outputs": []
    }
  ]
}