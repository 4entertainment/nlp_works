{
  "cells": [
    {
      "cell_type": "markdown",
      "metadata": {
        "id": "view-in-github",
        "colab_type": "text"
      },
      "source": [
        "<a href=\"https://colab.research.google.com/github/4entertainment/nlp_works/blob/main/sent-analysis-wthrr.ipynb\" target=\"_parent\"><img src=\"https://colab.research.google.com/assets/colab-badge.svg\" alt=\"Open In Colab\"/></a>"
      ]
    },
    {
      "cell_type": "markdown",
      "source": [
        "# **Sentiment Analysis**"
      ],
      "metadata": {
        "id": "xZSCpY6NwvTN"
      }
    },
    {
      "cell_type": "markdown",
      "source": [
        "# Loading the dataset and making it ready for use"
      ],
      "metadata": {
        "id": "Eg-tLlQ9w3wc"
      }
    },
    {
      "cell_type": "code",
      "execution_count": 41,
      "metadata": {
        "id": "zXuF6VZLV3sx"
      },
      "outputs": [],
      "source": [
        "import numpy as np\n",
        "import pandas as pd"
      ]
    },
    {
      "cell_type": "code",
      "execution_count": 42,
      "metadata": {
        "id": "fidiwwxVV3sz"
      },
      "outputs": [],
      "source": [
        "from tensorflow.python.keras.models import Sequential\n",
        "from tensorflow.python.keras.layers import Dense, GRU, Embedding, CuDNNGRU\n",
        "from tensorflow.keras.optimizers import Adam\n",
        "from tensorflow.keras.preprocessing.text import Tokenizer\n",
        "from tensorflow.keras.preprocessing.sequence import pad_sequences"
      ]
    },
    {
      "cell_type": "code",
      "execution_count": 116,
      "metadata": {
        "id": "flJdkSIZV3s1"
      },
      "outputs": [],
      "source": [
        "dataset = pd.read_csv('/content/sample_data/hepsiburada.csv')\n",
        "# reading the dataset"
      ]
    },
    {
      "cell_type": "code",
      "execution_count": 117,
      "metadata": {
        "colab": {
          "base_uri": "https://localhost:8080/",
          "height": 424
        },
        "id": "5VQOVOu8V3s2",
        "outputId": "ca7c3b83-9ec5-48bc-edc7-83403001cb61"
      },
      "outputs": [
        {
          "output_type": "execute_result",
          "data": {
            "text/plain": [
              "      Rating                                             Review\n",
              "0          1                            3 yıldır tık demedi. :)\n",
              "1          1                      3 yıldır kullanıyorum müthiş \n",
              "2          1  Ürün bugün elime geçti çok fazla inceleme fırs...\n",
              "3          1  Almaya karar verdim. Hemencecik geldi. Keyifle...\n",
              "4          1  Günlük kullanımınızı çok çok iyi karsılıyor kı...\n",
              "...      ...                                                ...\n",
              "6214       1  Fiyat/Performans olarak bakıldığında çok güzel...\n",
              "6215       1  Ölü bilgisayarı dirilten bir alet alın takın 5...\n",
              "6216       1                                             harika\n",
              "6217       1  Harika ötesi bir hız ve kalite çok memnun kald...\n",
              "6218       1                               pc biraz hızlandı iy\n",
              "\n",
              "[6219 rows x 2 columns]"
            ],
            "text/html": [
              "\n",
              "\n",
              "  <div id=\"df-9fe9f468-659e-40b3-9c60-3d9af9356f60\">\n",
              "    <div class=\"colab-df-container\">\n",
              "      <div>\n",
              "<style scoped>\n",
              "    .dataframe tbody tr th:only-of-type {\n",
              "        vertical-align: middle;\n",
              "    }\n",
              "\n",
              "    .dataframe tbody tr th {\n",
              "        vertical-align: top;\n",
              "    }\n",
              "\n",
              "    .dataframe thead th {\n",
              "        text-align: right;\n",
              "    }\n",
              "</style>\n",
              "<table border=\"1\" class=\"dataframe\">\n",
              "  <thead>\n",
              "    <tr style=\"text-align: right;\">\n",
              "      <th></th>\n",
              "      <th>Rating</th>\n",
              "      <th>Review</th>\n",
              "    </tr>\n",
              "  </thead>\n",
              "  <tbody>\n",
              "    <tr>\n",
              "      <th>0</th>\n",
              "      <td>1</td>\n",
              "      <td>3 yıldır tık demedi. :)</td>\n",
              "    </tr>\n",
              "    <tr>\n",
              "      <th>1</th>\n",
              "      <td>1</td>\n",
              "      <td>3 yıldır kullanıyorum müthiş</td>\n",
              "    </tr>\n",
              "    <tr>\n",
              "      <th>2</th>\n",
              "      <td>1</td>\n",
              "      <td>Ürün bugün elime geçti çok fazla inceleme fırs...</td>\n",
              "    </tr>\n",
              "    <tr>\n",
              "      <th>3</th>\n",
              "      <td>1</td>\n",
              "      <td>Almaya karar verdim. Hemencecik geldi. Keyifle...</td>\n",
              "    </tr>\n",
              "    <tr>\n",
              "      <th>4</th>\n",
              "      <td>1</td>\n",
              "      <td>Günlük kullanımınızı çok çok iyi karsılıyor kı...</td>\n",
              "    </tr>\n",
              "    <tr>\n",
              "      <th>...</th>\n",
              "      <td>...</td>\n",
              "      <td>...</td>\n",
              "    </tr>\n",
              "    <tr>\n",
              "      <th>6214</th>\n",
              "      <td>1</td>\n",
              "      <td>Fiyat/Performans olarak bakıldığında çok güzel...</td>\n",
              "    </tr>\n",
              "    <tr>\n",
              "      <th>6215</th>\n",
              "      <td>1</td>\n",
              "      <td>Ölü bilgisayarı dirilten bir alet alın takın 5...</td>\n",
              "    </tr>\n",
              "    <tr>\n",
              "      <th>6216</th>\n",
              "      <td>1</td>\n",
              "      <td>harika</td>\n",
              "    </tr>\n",
              "    <tr>\n",
              "      <th>6217</th>\n",
              "      <td>1</td>\n",
              "      <td>Harika ötesi bir hız ve kalite çok memnun kald...</td>\n",
              "    </tr>\n",
              "    <tr>\n",
              "      <th>6218</th>\n",
              "      <td>1</td>\n",
              "      <td>pc biraz hızlandı iy</td>\n",
              "    </tr>\n",
              "  </tbody>\n",
              "</table>\n",
              "<p>6219 rows × 2 columns</p>\n",
              "</div>\n",
              "      <button class=\"colab-df-convert\" onclick=\"convertToInteractive('df-9fe9f468-659e-40b3-9c60-3d9af9356f60')\"\n",
              "              title=\"Convert this dataframe to an interactive table.\"\n",
              "              style=\"display:none;\">\n",
              "\n",
              "  <svg xmlns=\"http://www.w3.org/2000/svg\" height=\"24px\"viewBox=\"0 0 24 24\"\n",
              "       width=\"24px\">\n",
              "    <path d=\"M0 0h24v24H0V0z\" fill=\"none\"/>\n",
              "    <path d=\"M18.56 5.44l.94 2.06.94-2.06 2.06-.94-2.06-.94-.94-2.06-.94 2.06-2.06.94zm-11 1L8.5 8.5l.94-2.06 2.06-.94-2.06-.94L8.5 2.5l-.94 2.06-2.06.94zm10 10l.94 2.06.94-2.06 2.06-.94-2.06-.94-.94-2.06-.94 2.06-2.06.94z\"/><path d=\"M17.41 7.96l-1.37-1.37c-.4-.4-.92-.59-1.43-.59-.52 0-1.04.2-1.43.59L10.3 9.45l-7.72 7.72c-.78.78-.78 2.05 0 2.83L4 21.41c.39.39.9.59 1.41.59.51 0 1.02-.2 1.41-.59l7.78-7.78 2.81-2.81c.8-.78.8-2.07 0-2.86zM5.41 20L4 18.59l7.72-7.72 1.47 1.35L5.41 20z\"/>\n",
              "  </svg>\n",
              "      </button>\n",
              "\n",
              "\n",
              "\n",
              "    <div id=\"df-18a0048a-9ce7-4c3a-8fca-a4fa701c2e0c\">\n",
              "      <button class=\"colab-df-quickchart\" onclick=\"quickchart('df-18a0048a-9ce7-4c3a-8fca-a4fa701c2e0c')\"\n",
              "              title=\"Suggest charts.\"\n",
              "              style=\"display:none;\">\n",
              "\n",
              "<svg xmlns=\"http://www.w3.org/2000/svg\" height=\"24px\"viewBox=\"0 0 24 24\"\n",
              "     width=\"24px\">\n",
              "    <g>\n",
              "        <path d=\"M19 3H5c-1.1 0-2 .9-2 2v14c0 1.1.9 2 2 2h14c1.1 0 2-.9 2-2V5c0-1.1-.9-2-2-2zM9 17H7v-7h2v7zm4 0h-2V7h2v10zm4 0h-2v-4h2v4z\"/>\n",
              "    </g>\n",
              "</svg>\n",
              "      </button>\n",
              "    </div>\n",
              "\n",
              "<style>\n",
              "  .colab-df-quickchart {\n",
              "    background-color: #E8F0FE;\n",
              "    border: none;\n",
              "    border-radius: 50%;\n",
              "    cursor: pointer;\n",
              "    display: none;\n",
              "    fill: #1967D2;\n",
              "    height: 32px;\n",
              "    padding: 0 0 0 0;\n",
              "    width: 32px;\n",
              "  }\n",
              "\n",
              "  .colab-df-quickchart:hover {\n",
              "    background-color: #E2EBFA;\n",
              "    box-shadow: 0px 1px 2px rgba(60, 64, 67, 0.3), 0px 1px 3px 1px rgba(60, 64, 67, 0.15);\n",
              "    fill: #174EA6;\n",
              "  }\n",
              "\n",
              "  [theme=dark] .colab-df-quickchart {\n",
              "    background-color: #3B4455;\n",
              "    fill: #D2E3FC;\n",
              "  }\n",
              "\n",
              "  [theme=dark] .colab-df-quickchart:hover {\n",
              "    background-color: #434B5C;\n",
              "    box-shadow: 0px 1px 3px 1px rgba(0, 0, 0, 0.15);\n",
              "    filter: drop-shadow(0px 1px 2px rgba(0, 0, 0, 0.3));\n",
              "    fill: #FFFFFF;\n",
              "  }\n",
              "</style>\n",
              "\n",
              "    <script>\n",
              "      async function quickchart(key) {\n",
              "        const containerElement = document.querySelector('#' + key);\n",
              "        const charts = await google.colab.kernel.invokeFunction(\n",
              "            'suggestCharts', [key], {});\n",
              "      }\n",
              "    </script>\n",
              "\n",
              "      <script>\n",
              "\n",
              "function displayQuickchartButton(domScope) {\n",
              "  let quickchartButtonEl =\n",
              "    domScope.querySelector('#df-18a0048a-9ce7-4c3a-8fca-a4fa701c2e0c button.colab-df-quickchart');\n",
              "  quickchartButtonEl.style.display =\n",
              "    google.colab.kernel.accessAllowed ? 'block' : 'none';\n",
              "}\n",
              "\n",
              "        displayQuickchartButton(document);\n",
              "      </script>\n",
              "      <style>\n",
              "    .colab-df-container {\n",
              "      display:flex;\n",
              "      flex-wrap:wrap;\n",
              "      gap: 12px;\n",
              "    }\n",
              "\n",
              "    .colab-df-convert {\n",
              "      background-color: #E8F0FE;\n",
              "      border: none;\n",
              "      border-radius: 50%;\n",
              "      cursor: pointer;\n",
              "      display: none;\n",
              "      fill: #1967D2;\n",
              "      height: 32px;\n",
              "      padding: 0 0 0 0;\n",
              "      width: 32px;\n",
              "    }\n",
              "\n",
              "    .colab-df-convert:hover {\n",
              "      background-color: #E2EBFA;\n",
              "      box-shadow: 0px 1px 2px rgba(60, 64, 67, 0.3), 0px 1px 3px 1px rgba(60, 64, 67, 0.15);\n",
              "      fill: #174EA6;\n",
              "    }\n",
              "\n",
              "    [theme=dark] .colab-df-convert {\n",
              "      background-color: #3B4455;\n",
              "      fill: #D2E3FC;\n",
              "    }\n",
              "\n",
              "    [theme=dark] .colab-df-convert:hover {\n",
              "      background-color: #434B5C;\n",
              "      box-shadow: 0px 1px 3px 1px rgba(0, 0, 0, 0.15);\n",
              "      filter: drop-shadow(0px 1px 2px rgba(0, 0, 0, 0.3));\n",
              "      fill: #FFFFFF;\n",
              "    }\n",
              "  </style>\n",
              "\n",
              "      <script>\n",
              "        const buttonEl =\n",
              "          document.querySelector('#df-9fe9f468-659e-40b3-9c60-3d9af9356f60 button.colab-df-convert');\n",
              "        buttonEl.style.display =\n",
              "          google.colab.kernel.accessAllowed ? 'block' : 'none';\n",
              "\n",
              "        async function convertToInteractive(key) {\n",
              "          const element = document.querySelector('#df-9fe9f468-659e-40b3-9c60-3d9af9356f60');\n",
              "          const dataTable =\n",
              "            await google.colab.kernel.invokeFunction('convertToInteractive',\n",
              "                                                     [key], {});\n",
              "          if (!dataTable) return;\n",
              "\n",
              "          const docLinkHtml = 'Like what you see? Visit the ' +\n",
              "            '<a target=\"_blank\" href=https://colab.research.google.com/notebooks/data_table.ipynb>data table notebook</a>'\n",
              "            + ' to learn more about interactive tables.';\n",
              "          element.innerHTML = '';\n",
              "          dataTable['output_type'] = 'display_data';\n",
              "          await google.colab.output.renderOutput(dataTable, element);\n",
              "          const docLink = document.createElement('div');\n",
              "          docLink.innerHTML = docLinkHtml;\n",
              "          element.appendChild(docLink);\n",
              "        }\n",
              "      </script>\n",
              "    </div>\n",
              "  </div>\n"
            ]
          },
          "metadata": {},
          "execution_count": 117
        }
      ],
      "source": [
        "dataset\n",
        "# looking at the dataset"
      ]
    },
    {
      "cell_type": "code",
      "execution_count": 118,
      "metadata": {
        "id": "7SYkoYiKV3s2"
      },
      "outputs": [],
      "source": [
        "target = dataset['Rating'].values.tolist()\n",
        "data = dataset['Review'].values.tolist()\n",
        "# getting data ratings and their review tags."
      ]
    },
    {
      "cell_type": "code",
      "execution_count": 119,
      "metadata": {
        "id": "vAb2T7KrV3s2"
      },
      "outputs": [],
      "source": [
        "cutoff = int(len(data) * 0.80)\n",
        "x_train, x_test = data[:cutoff], data[cutoff:]\n",
        "y_train, y_test = target[:cutoff], target[cutoff:]\n",
        "# seperating the dataset (data ratings and review tags) as train and test dataset parts."
      ]
    },
    {
      "cell_type": "code",
      "execution_count": 120,
      "metadata": {
        "colab": {
          "base_uri": "https://localhost:8080/",
          "height": 53
        },
        "id": "aiR2oj41V3s3",
        "outputId": "34c08b3f-11ce-4c9b-f850-4d76c8651796"
      },
      "outputs": [
        {
          "output_type": "execute_result",
          "data": {
            "text/plain": [
              "'ürün sipariş verdim 2 gün içinde elime ulaştı her zaman ki gibi kullanışlı bi ürün daha once de bu mouse dan almıştım.bu yüzden tereddütsüz aldım . alacak olanlara öneririm'"
            ],
            "application/vnd.google.colaboratory.intrinsic+json": {
              "type": "string"
            }
          },
          "metadata": {},
          "execution_count": 120
        }
      ],
      "source": [
        "x_train[500]\n",
        "# looking at the 500.index data"
      ]
    },
    {
      "cell_type": "code",
      "execution_count": 121,
      "metadata": {
        "colab": {
          "base_uri": "https://localhost:8080/",
          "height": 53
        },
        "id": "_5sUJz2ZV3s3",
        "outputId": "b6120d0f-eb8b-432a-a76a-d102a904fee7"
      },
      "outputs": [
        {
          "output_type": "execute_result",
          "data": {
            "text/plain": [
              "'ürünü alalı 3 hafta kadar oldu. aralıksız kullanıyorum bilgisyarım sürekli açık durur ve ben günde yaklaşık 12 saat başındayım mousesu çok kullanırım. şimdiye kadar bir problem yaşamadım ve çok memnunum almak isteyenlere tavsiye ederim.'"
            ],
            "application/vnd.google.colaboratory.intrinsic+json": {
              "type": "string"
            }
          },
          "metadata": {},
          "execution_count": 121
        }
      ],
      "source": [
        "x_train[800]\n",
        "# looking at the 800.index data"
      ]
    },
    {
      "cell_type": "code",
      "execution_count": 122,
      "metadata": {
        "colab": {
          "base_uri": "https://localhost:8080/"
        },
        "id": "ImNCGix0V3s4",
        "outputId": "198ef914-d39d-4ef9-dd2b-5cfdaf7be03f"
      },
      "outputs": [
        {
          "output_type": "execute_result",
          "data": {
            "text/plain": [
              "1"
            ]
          },
          "metadata": {},
          "execution_count": 122
        }
      ],
      "source": [
        "y_train[800]\n",
        "# looking at the 800.index data's review tag (1=>positive)"
      ]
    },
    {
      "cell_type": "markdown",
      "source": [
        "# Tokenization"
      ],
      "metadata": {
        "id": "VBMBeqBfxBni"
      }
    },
    {
      "cell_type": "code",
      "execution_count": 123,
      "metadata": {
        "id": "NSb2dwayV3s4"
      },
      "outputs": [],
      "source": [
        "# tokenization the reviews.\n",
        "num_words = 10000 # getting the 10000 words in dataset.\n",
        "tokenizer = Tokenizer(num_words=num_words)\n"
      ]
    },
    {
      "cell_type": "code",
      "execution_count": 124,
      "metadata": {
        "id": "ivjgrcSSV3s4"
      },
      "outputs": [],
      "source": [
        "tokenizer.fit_on_texts(data)\n",
        "# tokenization the given data(reviews' initialized name was\"data\")"
      ]
    },
    {
      "cell_type": "code",
      "execution_count": 125,
      "metadata": {
        "colab": {
          "base_uri": "https://localhost:8080/"
        },
        "id": "boKCqyd4V3s5",
        "outputId": "f290b1ac-a109-4b78-b907-b0aa7169e4a1"
      },
      "outputs": [
        {
          "output_type": "execute_result",
          "data": {
            "text/plain": [
              "{'bir': 1,\n",
              " 'çok': 2,\n",
              " 've': 3,\n",
              " 'ürün': 4,\n",
              " 'bu': 5,\n",
              " 'iyi': 6,\n",
              " 'için': 7,\n",
              " 'tavsiye': 8,\n",
              " 'güzel': 9,\n",
              " 'ederim': 10,\n",
              " 'gayet': 11,\n",
              " 'hızlı': 12,\n",
              " 'daha': 13,\n",
              " 'da': 14,\n",
              " 'aldım': 15,\n",
              " 'ama': 16,\n",
              " 'de': 17,\n",
              " 'kullanışlı': 18,\n",
              " 'yok': 19,\n",
              " 'teşekkürler': 20,\n",
              " 'ürünü': 21,\n",
              " 'küçük': 22,\n",
              " 'elime': 23,\n",
              " 'uygun': 24,\n",
              " 'mouse': 25,\n",
              " 'kaliteli': 26,\n",
              " 'gibi': 27,\n",
              " 'olarak': 28,\n",
              " 'fiyat': 29,\n",
              " 'ile': 30,\n",
              " 'fiyata': 31,\n",
              " 'en': 32,\n",
              " 'kargo': 33,\n",
              " 'göre': 34,\n",
              " '2': 35,\n",
              " 'kullanıyorum': 36,\n",
              " 'gerçekten': 37,\n",
              " 'var': 38,\n",
              " 'kadar': 39,\n",
              " 'hepsiburada': 40,\n",
              " 'kesinlikle': 41,\n",
              " 'her': 42,\n",
              " 'hiç': 43,\n",
              " 'ben': 44,\n",
              " 'usb': 45,\n",
              " 'hızı': 46,\n",
              " 'hem': 47,\n",
              " 'ulaştı': 48,\n",
              " '1': 49,\n",
              " '3': 50,\n",
              " 'şık': 51,\n",
              " 'geldi': 52,\n",
              " 'olması': 53,\n",
              " 'cok': 54,\n",
              " 'mükemmel': 55,\n",
              " 'biraz': 56,\n",
              " 'bence': 57,\n",
              " 'tek': 58,\n",
              " 'pil': 59,\n",
              " 'tam': 60,\n",
              " 'performans': 61,\n",
              " 'değil': 62,\n",
              " 'bi': 63,\n",
              " 'fiyatı': 64,\n",
              " 'oldukça': 65,\n",
              " 'süper': 66,\n",
              " 'ayrıca': 67,\n",
              " 'önce': 68,\n",
              " 'memnunum': 69,\n",
              " 'gün': 70,\n",
              " 'oldu': 71,\n",
              " 'gb': 72,\n",
              " 'sağlam': 73,\n",
              " 'çalışıyor': 74,\n",
              " '5': 75,\n",
              " 'memnun': 76,\n",
              " 'fiyatına': 77,\n",
              " 'harika': 78,\n",
              " 'herkese': 79,\n",
              " 'sonra': 80,\n",
              " 'sorun': 81,\n",
              " 'bile': 82,\n",
              " 'sipariş': 83,\n",
              " 'sorunsuz': 84,\n",
              " 'uzun': 85,\n",
              " 'büyük': 86,\n",
              " 'rahat': 87,\n",
              " 'kolay': 88,\n",
              " 'alın': 89,\n",
              " 'başarılı': 90,\n",
              " 'zaten': 91,\n",
              " 'kalitesi': 92,\n",
              " 'ne': 93,\n",
              " 'o': 94,\n",
              " 'fazla': 95,\n",
              " 'marka': 96,\n",
              " 'hemen': 97,\n",
              " 'gerek': 98,\n",
              " 'ediyorum': 99,\n",
              " 'teşekkür': 100,\n",
              " 'şekilde': 101,\n",
              " 'içinde': 102,\n",
              " 'ancak': 103,\n",
              " 'fakat': 104,\n",
              " '10': 105,\n",
              " 'urun': 106,\n",
              " 'ele': 107,\n",
              " 'aynı': 108,\n",
              " 'ürünün': 109,\n",
              " '4': 110,\n",
              " 'derim': 111,\n",
              " 'benim': 112,\n",
              " 'ideal': 113,\n",
              " 'ufak': 114,\n",
              " 'hafif': 115,\n",
              " 'sessiz': 116,\n",
              " 'yazma': 117,\n",
              " 'com': 118,\n",
              " 'olsun': 119,\n",
              " 'arkadaşlar': 120,\n",
              " 'hepsi': 121,\n",
              " 'geçti': 122,\n",
              " 'sıkıntı': 123,\n",
              " 'kullanımı': 124,\n",
              " 'diğer': 125,\n",
              " 'çanta': 126,\n",
              " 'diye': 127,\n",
              " 'olan': 128,\n",
              " 'olduğu': 129,\n",
              " 'ki': 130,\n",
              " 'kısa': 131,\n",
              " 'mause': 132,\n",
              " 'başka': 133,\n",
              " 'logitech': 134,\n",
              " 'bellek': 135,\n",
              " 'ssd': 136,\n",
              " 'almıştım': 137,\n",
              " 'zaman': 138,\n",
              " 'günde': 139,\n",
              " 'verdim': 140,\n",
              " 'sadece': 141,\n",
              " 'kaldım': 142,\n",
              " 'ise': 143,\n",
              " 'veri': 144,\n",
              " 'ettim': 145,\n",
              " 'kablosuz': 146,\n",
              " 'yeni': 147,\n",
              " '16': 148,\n",
              " 'okuma': 149,\n",
              " 'metal': 150,\n",
              " 'sürede': 151,\n",
              " 'almak': 152,\n",
              " 'yeterli': 153,\n",
              " 'ilk': 154,\n",
              " 'burada': 155,\n",
              " 'laptop': 156,\n",
              " 'düşünmeden': 157,\n",
              " 'tane': 158,\n",
              " 'ucuz': 159,\n",
              " '0': 160,\n",
              " 'yani': 161,\n",
              " 'aldığım': 162,\n",
              " 'özellikle': 163,\n",
              " '6': 164,\n",
              " 'kalite': 165,\n",
              " 'yaklaşık': 166,\n",
              " 'rağmen': 167,\n",
              " 'tercih': 168,\n",
              " 'aktarım': 169,\n",
              " 'ergonomik': 170,\n",
              " 'taktım': 171,\n",
              " 'oturuyor': 172,\n",
              " 'cihaz': 173,\n",
              " 'beğendim': 174,\n",
              " 'hız': 175,\n",
              " 'oyun': 176,\n",
              " 'kullanım': 177,\n",
              " 'teslimat': 178,\n",
              " 'pc': 179,\n",
              " 'olduğunu': 180,\n",
              " 'yer': 181,\n",
              " '15': 182,\n",
              " 'şey': 183,\n",
              " 'bunu': 184,\n",
              " 'gönderi': 185,\n",
              " 'ya': 186,\n",
              " 'sahip': 187,\n",
              " 'iki': 188,\n",
              " 'süre': 189,\n",
              " 'çıktı': 190,\n",
              " 'mb': 191,\n",
              " 'teslim': 192,\n",
              " 'az': 193,\n",
              " 'kurulum': 194,\n",
              " 'kurulumu': 195,\n",
              " 'oluyor': 196,\n",
              " 'hizli': 197,\n",
              " 'alabilirsiniz': 198,\n",
              " 'bana': 199,\n",
              " 'hemde': 200,\n",
              " 'bilgisayar': 201,\n",
              " 'sandisk': 202,\n",
              " 'normal': 203,\n",
              " 'guzel': 204,\n",
              " 'performansı': 205,\n",
              " 'kibar': 206,\n",
              " 'pişman': 207,\n",
              " 'kullanmak': 208,\n",
              " 'malzeme': 209,\n",
              " 'pili': 210,\n",
              " 'bi̇r': 211,\n",
              " 'ay': 212,\n",
              " 'tasarımı': 213,\n",
              " 'artık': 214,\n",
              " 'yanında': 215,\n",
              " 'duruyor': 216,\n",
              " 'üründen': 217,\n",
              " 'son': 218,\n",
              " 'eski': 219,\n",
              " '8': 220,\n",
              " 'yerde': 221,\n",
              " 'geliyor': 222,\n",
              " 'sn': 223,\n",
              " 'açısından': 224,\n",
              " 'şu': 225,\n",
              " 'icin': 226,\n",
              " 'alacak': 227,\n",
              " 'fare': 228,\n",
              " 'kullandığım': 229,\n",
              " 'şimdi': 230,\n",
              " 'iş': 231,\n",
              " 'disk': 232,\n",
              " 'yüksek': 233,\n",
              " 'ömrü': 234,\n",
              " 'hb': 235,\n",
              " 'tıklama': 236,\n",
              " 'adet': 237,\n",
              " 'rahatlıkla': 238,\n",
              " 'kullanmaya': 239,\n",
              " 'varsa': 240,\n",
              " 'olsa': 241,\n",
              " 'flash': 242,\n",
              " 'yaşamadım': 243,\n",
              " 'kaçırmayın': 244,\n",
              " 'veriyor': 245,\n",
              " 'ye': 246,\n",
              " 'belli': 247,\n",
              " 'konusunda': 248,\n",
              " 'kingston': 249,\n",
              " 'anahtarlığa': 250,\n",
              " 'para': 251,\n",
              " 'hiçbir': 252,\n",
              " 'aydır': 253,\n",
              " 'zor': 254,\n",
              " 'arkadaşlara': 255,\n",
              " 'saat': 256,\n",
              " 'hafta': 257,\n",
              " 'yüzeyde': 258,\n",
              " 'kullandım': 259,\n",
              " 'özelliği': 260,\n",
              " 'gönül': 261,\n",
              " 'bundan': 262,\n",
              " 'hdd': 263,\n",
              " 'tak': 264,\n",
              " 'ev': 265,\n",
              " 'yine': 266,\n",
              " 'şiddetle': 267,\n",
              " 'yavaş': 268,\n",
              " 'tasarım': 269,\n",
              " 'almayı': 270,\n",
              " 'numara': 271,\n",
              " 'alınabilecek': 272,\n",
              " 'kablo': 273,\n",
              " 'boyutu': 274,\n",
              " 'yıl': 275,\n",
              " 'düşünüyorum': 276,\n",
              " 'yere': 277,\n",
              " 'farklı': 278,\n",
              " 'edilir': 279,\n",
              " 'bugün': 280,\n",
              " 'herhangi': 281,\n",
              " 'pratik': 282,\n",
              " 'üzerinde': 283,\n",
              " 'sorunu': 284,\n",
              " 'bunun': 285,\n",
              " 'dpi': 286,\n",
              " 'öneririm': 287,\n",
              " 'fazlasıyla': 288,\n",
              " 'kablosu': 289,\n",
              " 'yapıyor': 290,\n",
              " 'veya': 291,\n",
              " 'basit': 292,\n",
              " 'kötü': 293,\n",
              " 'sesi': 294,\n",
              " 'eğer': 295,\n",
              " 'problem': 296,\n",
              " 'sürekli': 297,\n",
              " 'alışveriş': 298,\n",
              " 'birşey': 299,\n",
              " 'avantaj': 300,\n",
              " 'ertesi': 301,\n",
              " 'aldim': 302,\n",
              " 'ediyor': 303,\n",
              " 'dolayı': 304,\n",
              " 'derece': 305,\n",
              " 'çünkü': 306,\n",
              " 'bilgisayara': 307,\n",
              " 'beklediğimden': 308,\n",
              " 'plastik': 309,\n",
              " 'ağır': 310,\n",
              " 'görüyor': 311,\n",
              " 'çabuk': 312,\n",
              " 'a': 313,\n",
              " 'almanızı': 314,\n",
              " 'böyle': 315,\n",
              " 'diyebilirim': 316,\n",
              " 'ön': 317,\n",
              " 'altında': 318,\n",
              " 'hoş': 319,\n",
              " 'olmasına': 320,\n",
              " 'notebook': 321,\n",
              " 'üstelik': 322,\n",
              " 'dayanıklı': 323,\n",
              " '7': 324,\n",
              " 'içine': 325,\n",
              " 'olur': 326,\n",
              " 'alırken': 327,\n",
              " 'öncelikle': 328,\n",
              " 'bilgisayarım': 329,\n",
              " 'vardı': 330,\n",
              " 'düşük': 331,\n",
              " 'ayrı': 332,\n",
              " 'yazıcı': 333,\n",
              " 'bende': 334,\n",
              " 'yüzden': 335,\n",
              " 'tavsi̇ye': 336,\n",
              " 'denedim': 337,\n",
              " 'olmadı': 338,\n",
              " 'biri': 339,\n",
              " 'kendi': 340,\n",
              " 'arada': 341,\n",
              " 'fiyatıda': 342,\n",
              " 'süresi': 343,\n",
              " 'alalı': 344,\n",
              " 'ürüne': 345,\n",
              " 'hatta': 346,\n",
              " 'pahalı': 347,\n",
              " 'görür': 348,\n",
              " 'windows': 349,\n",
              " 'tereddüt': 350,\n",
              " 'zamanında': 351,\n",
              " 'çekim': 352,\n",
              " 'tüm': 353,\n",
              " 'evde': 354,\n",
              " 'sağlıyor': 355,\n",
              " 'birlikte': 356,\n",
              " 'günü': 357,\n",
              " 'başladım': 358,\n",
              " 'pad': 359,\n",
              " 'ihtiyacı': 360,\n",
              " 'internet': 361,\n",
              " 'saniyede': 362,\n",
              " 'araç': 363,\n",
              " '24': 364,\n",
              " 'gördüm': 365,\n",
              " 'içerisinde': 366,\n",
              " 'hediye': 367,\n",
              " 'zamanda': 368,\n",
              " 'hala': 369,\n",
              " 'ışık': 370,\n",
              " 'ses': 371,\n",
              " 'baya': 372,\n",
              " 'tesekkurler': 373,\n",
              " '20': 374,\n",
              " 'yaptım': 375,\n",
              " 'dışında': 376,\n",
              " 'on': 377,\n",
              " 'dan': 378,\n",
              " 'şimdilik': 379,\n",
              " 'i̇yi̇': 380,\n",
              " 'şuan': 381,\n",
              " 'toshiba': 382,\n",
              " 'önemli': 383,\n",
              " 'olmuyor': 384,\n",
              " 'bilgisayarı': 385,\n",
              " 'bağlantı': 386,\n",
              " 'fark': 387,\n",
              " 'yi': 388,\n",
              " 'sanırım': 389,\n",
              " 'iyisi': 390,\n",
              " 'çekiyor': 391,\n",
              " 'vs': 392,\n",
              " 'tekrar': 393,\n",
              " 'ederi̇m': 394,\n",
              " 'falan': 395,\n",
              " 'sinyal': 396,\n",
              " 'sata': 397,\n",
              " 'orta': 398,\n",
              " 'onun': 399,\n",
              " 'üst': 400,\n",
              " 'satın': 401,\n",
              " 'haftadır': 402,\n",
              " 'beni': 403,\n",
              " 'arasında': 404,\n",
              " 'olmaması': 405,\n",
              " 'rahatlığıyla': 406,\n",
              " 'isteyenlere': 407,\n",
              " 'gercekten': 408,\n",
              " 'an': 409,\n",
              " 'açılıyor': 410,\n",
              " 'yıldır': 411,\n",
              " 'kendini': 412,\n",
              " 'anda': 413,\n",
              " 'yapısı': 414,\n",
              " 'olanlara': 415,\n",
              " 'öyle': 416,\n",
              " 'i̇yi': 417,\n",
              " 'pek': 418,\n",
              " 'hepsiburadaya': 419,\n",
              " 'açılış': 420,\n",
              " 'kartuş': 421,\n",
              " 'alıp': 422,\n",
              " 'kat': 423,\n",
              " 'paketleme': 424,\n",
              " 'tabi': 425,\n",
              " 'yerine': 426,\n",
              " 'geri': 427,\n",
              " 'takıp': 428,\n",
              " 'zarif': 429,\n",
              " 'üründe': 430,\n",
              " 'fena': 431,\n",
              " 'yorum': 432,\n",
              " 'alınabilir': 433,\n",
              " 'bazı': 434,\n",
              " 'makul': 435,\n",
              " 'tuşu': 436,\n",
              " 'siyah': 437,\n",
              " 'kucuk': 438,\n",
              " 'gereken': 439,\n",
              " 'anahtarlıkta': 440,\n",
              " 'dosya': 441,\n",
              " 'olanlar': 442,\n",
              " 'sıkıntısı': 443,\n",
              " 'güvenilir': 444,\n",
              " 'elinize': 445,\n",
              " 'ürünler': 446,\n",
              " 'sol': 447,\n",
              " '30': 448,\n",
              " 'olabilir': 449,\n",
              " 'hoşuma': 450,\n",
              " 'dikkat': 451,\n",
              " 'kablolu': 452,\n",
              " 'türlü': 453,\n",
              " 'ışığı': 454,\n",
              " 'alan': 455,\n",
              " 'boyut': 456,\n",
              " 'lazım': 457,\n",
              " 'asus': 458,\n",
              " 'gidiyor': 459,\n",
              " 'kargoya': 460,\n",
              " 'sene': 461,\n",
              " 'kalitesini': 462,\n",
              " 'i': 463,\n",
              " 'i̇lk': 464,\n",
              " 'gönderim': 465,\n",
              " 'olmuş': 466,\n",
              " 'i̇çi̇n': 467,\n",
              " 'edici': 468,\n",
              " 'olduğundan': 469,\n",
              " 'anahtarlık': 470,\n",
              " 'günlük': 471,\n",
              " 'eli': 472,\n",
              " 'hizmet': 473,\n",
              " 'gelince': 474,\n",
              " 'rahatsız': 475,\n",
              " 'nano': 476,\n",
              " 'geç': 477,\n",
              " 's': 478,\n",
              " 'araba': 479,\n",
              " 'dış': 480,\n",
              " 'saniye': 481,\n",
              " 'tl': 482,\n",
              " 'çantayı': 483,\n",
              " 'karar': 484,\n",
              " 'almadan': 485,\n",
              " 'onu': 486,\n",
              " 'istediğim': 487,\n",
              " 'estetik': 488,\n",
              " 'açma': 489,\n",
              " 'görüntüsü': 490,\n",
              " 'yanı': 491,\n",
              " 'sanki': 492,\n",
              " 'tuşları': 493,\n",
              " 'mutlaka': 494,\n",
              " 'modem': 495,\n",
              " 'almaya': 496,\n",
              " 'yorumlara': 497,\n",
              " 'üstünde': 498,\n",
              " 'zeminde': 499,\n",
              " 'devam': 500,\n",
              " 'kullanıyordum': 501,\n",
              " 'fiyatlı': 502,\n",
              " 'etmeden': 503,\n",
              " 'markası': 504,\n",
              " 'işe': 505,\n",
              " 'model': 506,\n",
              " 'yada': 507,\n",
              " 'oldum': 508,\n",
              " 'sayesinde': 509,\n",
              " 'evin': 510,\n",
              " 'isteyenler': 511,\n",
              " 'kez': 512,\n",
              " 'a4': 513,\n",
              " 'hesaplı': 514,\n",
              " 'dün': 515,\n",
              " 'inanılmaz': 516,\n",
              " 'kaplamıyor': 517,\n",
              " 'siteye': 518,\n",
              " 'mevcut': 519,\n",
              " 'kargoda': 520,\n",
              " 'mi': 521,\n",
              " 'işimi': 522,\n",
              " 'dizüstü': 523,\n",
              " 'yoksa': 524,\n",
              " 'hak': 525,\n",
              " 'defa': 526,\n",
              " 'birkaç': 527,\n",
              " 'site': 528,\n",
              " 'görünüyor': 529,\n",
              " 'farkı': 530,\n",
              " 'tatmin': 531,\n",
              " 'tv': 532,\n",
              " 'gitti': 533,\n",
              " 'bır': 534,\n",
              " '16gb': 535,\n",
              " 'ince': 536,\n",
              " 'telefon': 537,\n",
              " 'aktarımı': 538,\n",
              " 'wifi': 539,\n",
              " 'olmazsınız': 540,\n",
              " 'kelime': 541,\n",
              " 'bakımından': 542,\n",
              " 'aldık': 543,\n",
              " 'karşıladı': 544,\n",
              " 'yeri': 545,\n",
              " 'önceki': 546,\n",
              " 'bilgisayarın': 547,\n",
              " 'gerekiyor': 548,\n",
              " 'doğru': 549,\n",
              " 'bütün': 550,\n",
              " 'test': 551,\n",
              " 'kapasite': 552,\n",
              " 'dk': 553,\n",
              " 'tık': 554,\n",
              " 'buldum': 555,\n",
              " 'hareket': 556,\n",
              " 'bazen': 557,\n",
              " 'neredeyse': 558,\n",
              " 'maus': 559,\n",
              " 'beraber': 560,\n",
              " 'yakın': 561,\n",
              " 'olmaz': 562,\n",
              " 'takılma': 563,\n",
              " 'muhteşem': 564,\n",
              " 'hep': 565,\n",
              " '14': 566,\n",
              " 'belki': 567,\n",
              " 'yıldız': 568,\n",
              " 'anahtarlığıma': 569,\n",
              " 'full': 570,\n",
              " 'cep': 571,\n",
              " 'kurdum': 572,\n",
              " 'müthiş': 573,\n",
              " 'önceden': 574,\n",
              " '100': 575,\n",
              " 'tech': 576,\n",
              " 'sade': 577,\n",
              " 'kaç': 578,\n",
              " 'kullanabilirsiniz': 579,\n",
              " 'şimdiye': 580,\n",
              " 'd': 581,\n",
              " 'hakkını': 582,\n",
              " 'özellik': 583,\n",
              " 'boyutları': 584,\n",
              " 'alıyorum': 585,\n",
              " 'cs': 586,\n",
              " 'ram': 587,\n",
              " 'çıkıyor': 588,\n",
              " 'bakarak': 589,\n",
              " 'standart': 590,\n",
              " 'düşünenlere': 591,\n",
              " 'mousepad': 592,\n",
              " 'üzerinden': 593,\n",
              " 'paraya': 594,\n",
              " 'olmayan': 595,\n",
              " 'pille': 596,\n",
              " 'lazer': 597,\n",
              " 'malzemesi': 598,\n",
              " 'görmedim': 599,\n",
              " 'rahatça': 600,\n",
              " 'laptopum': 601,\n",
              " 'cihazı': 602,\n",
              " 'hassasiyeti': 603,\n",
              " 'göz': 604,\n",
              " 'ulasti': 605,\n",
              " 'renkli': 606,\n",
              " 'piyasada': 607,\n",
              " 'kendine': 608,\n",
              " 'sonuç': 609,\n",
              " 'tuş': 610,\n",
              " 'geniş': 611,\n",
              " 'harici': 612,\n",
              " 'urunu': 613,\n",
              " 'ortalama': 614,\n",
              " 'kapama': 615,\n",
              " 'çantası': 616,\n",
              " 'gore': 617,\n",
              " 'den': 618,\n",
              " 'edin': 619,\n",
              " 'direk': 620,\n",
              " 'olurdu': 621,\n",
              " 'kullanılabilir': 622,\n",
              " 'gücü': 623,\n",
              " 'tşk': 624,\n",
              " 'ilgili': 625,\n",
              " 'görünce': 626,\n",
              " '9': 627,\n",
              " 'birde': 628,\n",
              " 'bişey': 629,\n",
              " 'hayırlı': 630,\n",
              " 'kapak': 631,\n",
              " 'hızlandı': 632,\n",
              " 'almışım': 633,\n",
              " 'işinizi': 634,\n",
              " 'gelen': 635,\n",
              " 'edildi': 636,\n",
              " 'oyunlarda': 637,\n",
              " 'alt': 638,\n",
              " 'elimdeydi': 639,\n",
              " 'yan': 640,\n",
              " 'bulmak': 641,\n",
              " 'hp': 642,\n",
              " 'kutu': 643,\n",
              " 'buna': 644,\n",
              " 'genel': 645,\n",
              " 'eder': 646,\n",
              " 'alanı': 647,\n",
              " 'başladı': 648,\n",
              " 'kasa': 649,\n",
              " 'yanınızda': 650,\n",
              " 'taşıma': 651,\n",
              " 'hard': 652,\n",
              " 'hizi': 653,\n",
              " 'bilgisayarıma': 654,\n",
              " 'harddisk': 655,\n",
              " 'kullanın': 656,\n",
              " 'kullanişli': 657,\n",
              " 'in': 658,\n",
              " 'kere': 659,\n",
              " 'ihtiyacınız': 660,\n",
              " 'etti': 661,\n",
              " 'yumuşak': 662,\n",
              " 'hızını': 663,\n",
              " 'kelimeyle': 664,\n",
              " 'karşılaşmadım': 665,\n",
              " 'uzak': 666,\n",
              " 'fiyatının': 667,\n",
              " 'sık': 668,\n",
              " 'gun': 669,\n",
              " 'bedava': 670,\n",
              " 'kaybolma': 671,\n",
              " 'samsung': 672,\n",
              " 'tp': 673,\n",
              " 'umarım': 674,\n",
              " 'birçok': 675,\n",
              " 'olunca': 676,\n",
              " 'içinden': 677,\n",
              " 'kırmızı': 678,\n",
              " 'sizi': 679,\n",
              " 'rahatlığı': 680,\n",
              " 'sert': 681,\n",
              " 'alet': 682,\n",
              " 'degil': 683,\n",
              " 'idi': 684,\n",
              " 'derdi': 685,\n",
              " 'teknoloji': 686,\n",
              " 'ürünlere': 687,\n",
              " 'ler': 688,\n",
              " 'yapılmış': 689,\n",
              " 'olarakta': 690,\n",
              " 'olmasıda': 691,\n",
              " 'hale': 692,\n",
              " 'karşılıyor': 693,\n",
              " 'takmak': 694,\n",
              " 'arabada': 695,\n",
              " 'oda': 696,\n",
              " 'sinyali': 697,\n",
              " 'masaüstü': 698,\n",
              " 'bozuldu': 699,\n",
              " 'yerden': 700,\n",
              " 'olduğum': 701,\n",
              " 'çalışması': 702,\n",
              " 'kullaniyorum': 703,\n",
              " 'olmadan': 704,\n",
              " 'ücretsiz': 705,\n",
              " 'optik': 706,\n",
              " 'içi': 707,\n",
              " 'piyasadaki': 708,\n",
              " 'i̇htiyacı': 709,\n",
              " 'vermeye': 710,\n",
              " 'ana': 711,\n",
              " 'verdikten': 712,\n",
              " 'düğmesi': 713,\n",
              " 'sağ': 714,\n",
              " 'tavsıye': 715,\n",
              " 'oturması': 716,\n",
              " 'uyumlu': 717,\n",
              " 'eden': 718,\n",
              " 'görünümü': 719,\n",
              " 'u': 720,\n",
              " 'bilgisayarda': 721,\n",
              " 'taşınabilir': 722,\n",
              " 'iken': 723,\n",
              " 'elimde': 724,\n",
              " 'dedim': 725,\n",
              " 'üzerine': 726,\n",
              " '12': 727,\n",
              " 'olacağını': 728,\n",
              " 'aşırı': 729,\n",
              " 'ısınma': 730,\n",
              " 'etmem': 731,\n",
              " 'dakikada': 732,\n",
              " 'satıcı': 733,\n",
              " 'düştü': 734,\n",
              " 'henüz': 735,\n",
              " 'siparişi': 736,\n",
              " 'hepsi̇burada': 737,\n",
              " 'güvenli': 738,\n",
              " 'ıyı': 739,\n",
              " 'alacaklara': 740,\n",
              " 'yıllık': 741,\n",
              " 'eksiği': 742,\n",
              " 'ekonomik': 743,\n",
              " 'sabah': 744,\n",
              " 'ona': 745,\n",
              " 'beyaz': 746,\n",
              " 'ihtiyacım': 747,\n",
              " 'herkeze': 748,\n",
              " 'düşünen': 749,\n",
              " 'beklemeyin': 750,\n",
              " 'geçen': 751,\n",
              " 'yalnız': 752,\n",
              " 'sistemi': 753,\n",
              " 'oranı': 754,\n",
              " 'ekstra': 755,\n",
              " 'boyutta': 756,\n",
              " 'lık': 757,\n",
              " 'hızında': 758,\n",
              " 'gördü': 759,\n",
              " 'go': 760,\n",
              " 'ileri': 761,\n",
              " 'baskı': 762,\n",
              " 'edebilirim': 763,\n",
              " 'gelmesi': 764,\n",
              " 'gözü': 765,\n",
              " 'kargolama': 766,\n",
              " 'tartışılmaz': 767,\n",
              " 'haricinde': 768,\n",
              " 'çalışma': 769,\n",
              " 'kapalı': 770,\n",
              " 'buradan': 771,\n",
              " 'ürünleri': 772,\n",
              " 'sabit': 773,\n",
              " 'ucuza': 774,\n",
              " 'ürünlerden': 775,\n",
              " 'birisi': 776,\n",
              " 'kullanıslı': 777,\n",
              " 'hele': 778,\n",
              " 'bilmiyorum': 779,\n",
              " 'uzaktan': 780,\n",
              " 'zamandır': 781,\n",
              " 'hazır': 782,\n",
              " 'resmen': 783,\n",
              " 'minik': 784,\n",
              " 'tavsiyemdir': 785,\n",
              " 'olmasi': 786,\n",
              " 'renk': 787,\n",
              " 'durumda': 788,\n",
              " 'depolama': 789,\n",
              " 'kopyalama': 790,\n",
              " 'ip': 791,\n",
              " 'fareyi': 792,\n",
              " 'kendime': 793,\n",
              " 'altındaki': 794,\n",
              " 'evet': 795,\n",
              " 'teşekürler': 796,\n",
              " 'el': 797,\n",
              " 'mukemmel': 798,\n",
              " 'öncede': 799,\n",
              " 'tabiki': 800,\n",
              " 'çıkan': 801,\n",
              " 'kalem': 802,\n",
              " 'indirim': 803,\n",
              " 'kullanıma': 804,\n",
              " 'akşam': 805,\n",
              " 'fps': 806,\n",
              " 'sonuçta': 807,\n",
              " 'oldugu': 808,\n",
              " 'hic': 809,\n",
              " 'değer': 810,\n",
              " 'açıkçası': 811,\n",
              " 'halde': 812,\n",
              " 'firma': 813,\n",
              " 'hızına': 814,\n",
              " 'söyleyebilirim': 815,\n",
              " 'derecede': 816,\n",
              " 'içindeki': 817,\n",
              " 'idare': 818,\n",
              " 'zamanla': 819,\n",
              " 'kullanırken': 820,\n",
              " 'nedeniyle': 821,\n",
              " 'cuma': 822,\n",
              " 'kasası': 823,\n",
              " 'kalıyor': 824,\n",
              " 'olsaydı': 825,\n",
              " 'kısmı': 826,\n",
              " 'mümkün': 827,\n",
              " 'hızları': 828,\n",
              " 'müzik': 829,\n",
              " 'arası': 830,\n",
              " 'senedir': 831,\n",
              " 'kullanımda': 832,\n",
              " 'metre': 833,\n",
              " 'kullanabiliyorsunuz': 834,\n",
              " 'neden': 835,\n",
              " 'hızıda': 836,\n",
              " 'güven': 837,\n",
              " 'isteyen': 838,\n",
              " 'yapmak': 839,\n",
              " 'm175': 840,\n",
              " 'aslında': 841,\n",
              " 'indirimli': 842,\n",
              " 'kapağı': 843,\n",
              " 'beklediğim': 844,\n",
              " 'alıcısı': 845,\n",
              " 'aldığımda': 846,\n",
              " 'güvenle': 847,\n",
              " 'istiyorsanız': 848,\n",
              " 'eksik': 849,\n",
              " 'olumsuz': 850,\n",
              " 'buradaya': 851,\n",
              " 'herkes': 852,\n",
              " 'artı': 853,\n",
              " 'güle': 854,\n",
              " 'kolayca': 855,\n",
              " 'üzerindeki': 856,\n",
              " 'mini': 857,\n",
              " 'gerekli': 858,\n",
              " 'keşke': 859,\n",
              " 'taşıması': 860,\n",
              " 'olmasından': 861,\n",
              " 'sonunda': 862,\n",
              " 'film': 863,\n",
              " 'görüntü': 864,\n",
              " 'orjinal': 865,\n",
              " 'olabilirdi': 866,\n",
              " 'kutusu': 867,\n",
              " 'çantanın': 868,\n",
              " 'kapanış': 869,\n",
              " 'kart': 870,\n",
              " 'alabilir': 871,\n",
              " 'kullanan': 872,\n",
              " 'konuda': 873,\n",
              " 'cabası': 874,\n",
              " 'tamamen': 875,\n",
              " 'olmadığı': 876,\n",
              " 'nasıl': 877,\n",
              " 'buyuk': 878,\n",
              " 'un': 879,\n",
              " 'merhaba': 880,\n",
              " 'etmiyor': 881,\n",
              " 'verildi': 882,\n",
              " 'aldıktan': 883,\n",
              " 'ederım': 884,\n",
              " 'ettiğim': 885,\n",
              " 'markanın': 886,\n",
              " 'verdiğim': 887,\n",
              " 'ıcın': 888,\n",
              " 'kalmadı': 889,\n",
              " 'bunda': 890,\n",
              " 'bulamazsınız': 891,\n",
              " 'çalıştı': 892,\n",
              " 'indirimde': 893,\n",
              " 'kaba': 894,\n",
              " 'sorunla': 895,\n",
              " 'ta': 896,\n",
              " 'kendisi': 897,\n",
              " 'aldı': 898,\n",
              " 'diyorum': 899,\n",
              " 'kisa': 900,\n",
              " 'baktım': 901,\n",
              " 'sistem': 902,\n",
              " 'verdi': 903,\n",
              " 'düşünmeyin': 904,\n",
              " 'e': 905,\n",
              " 'çalışmıyor': 906,\n",
              " 'yerinde': 907,\n",
              " 'su': 908,\n",
              " 'lik': 909,\n",
              " '50': 910,\n",
              " '32': 911,\n",
              " 'dosyaları': 912,\n",
              " 'olanını': 913,\n",
              " 'diş': 914,\n",
              " 'hızlıydı': 915,\n",
              " 'yeniden': 916,\n",
              " 'gece': 917,\n",
              " 'temiz': 918,\n",
              " 'targus': 919,\n",
              " 'link': 920,\n",
              " 'ürünle': 921,\n",
              " 'arkadaşım': 922,\n",
              " 'alabileceğiniz': 923,\n",
              " 'masa': 924,\n",
              " 'kontrol': 925,\n",
              " 'gündür': 926,\n",
              " 'alin': 927,\n",
              " 'kullanisli': 928,\n",
              " 'iyisini': 929,\n",
              " 'çalıştır': 930,\n",
              " 'iç': 931,\n",
              " 'şeyi': 932,\n",
              " 'ömürlü': 933,\n",
              " 'beklentilerimi': 934,\n",
              " 'cam': 935,\n",
              " 'herşey': 936,\n",
              " 'alınacak': 937,\n",
              " 'farenin': 938,\n",
              " 'takılan': 939,\n",
              " 'kullanışı': 940,\n",
              " 'arkadaş': 941,\n",
              " 'olacak': 942,\n",
              " 'takılı': 943,\n",
              " 'kullanılan': 944,\n",
              " 'gi̇bi̇': 945,\n",
              " 'kullan': 946,\n",
              " 'almış': 947,\n",
              " 'istedim': 948,\n",
              " 'uyum': 949,\n",
              " 'taşımak': 950,\n",
              " 'hissi': 951,\n",
              " 'program': 952,\n",
              " 'görünüşü': 953,\n",
              " 'oluşu': 954,\n",
              " 'olunur': 955,\n",
              " 'yaparken': 956,\n",
              " 'ayarı': 957,\n",
              " 'arka': 958,\n",
              " 'hızda': 959,\n",
              " '8gb': 960,\n",
              " 'arabam': 961,\n",
              " 'hafıza': 962,\n",
              " '40': 963,\n",
              " 'ekran': 964,\n",
              " 'katta': 965,\n",
              " 'yapmış': 966,\n",
              " 'halen': 967,\n",
              " 'kullanılabiliyor': 968,\n",
              " 'kullanmıştım': 969,\n",
              " 'acaba': 970,\n",
              " 'p': 971,\n",
              " 'diger': 972,\n",
              " 'gereksiz': 973,\n",
              " 'sıkıntısız': 974,\n",
              " 'mı': 975,\n",
              " 'pazartesi': 976,\n",
              " 'hassas': 977,\n",
              " 'hariç': 978,\n",
              " 'kali̇teli̇': 979,\n",
              " 'girişi': 980,\n",
              " 'kendim': 981,\n",
              " 'kullanıyor': 982,\n",
              " 'ortada': 983,\n",
              " 'kullanılıyor': 984,\n",
              " 'anında': 985,\n",
              " 'özel': 986,\n",
              " 'olumlu': 987,\n",
              " 'yapan': 988,\n",
              " 'üstü': 989,\n",
              " 'takın': 990,\n",
              " 'led': 991,\n",
              " 'yarıyor': 992,\n",
              " 'ötesi': 993,\n",
              " 'ara': 994,\n",
              " 'ayrica': 995,\n",
              " 'verilen': 996,\n",
              " 'işlem': 997,\n",
              " 'ii': 998,\n",
              " 'riski': 999,\n",
              " 'resimde': 1000,\n",
              " ...}"
            ]
          },
          "metadata": {},
          "execution_count": 125
        }
      ],
      "source": [
        "# looking at the all tokens sorted by priority of most used\n",
        "tokenizer.word_index"
      ]
    },
    {
      "cell_type": "code",
      "execution_count": 126,
      "metadata": {
        "id": "39E5cFAnV3s5"
      },
      "outputs": [],
      "source": [
        "# tokenization of the train set\n",
        "x_train_tokens = tokenizer.texts_to_sequences(x_train)"
      ]
    },
    {
      "cell_type": "code",
      "execution_count": 127,
      "metadata": {
        "colab": {
          "base_uri": "https://localhost:8080/",
          "height": 53
        },
        "id": "cm7szdYJV3s5",
        "outputId": "97cf6bd8-61f3-4bfa-ec3e-5f412bfe3ee0"
      },
      "outputs": [
        {
          "output_type": "execute_result",
          "data": {
            "text/plain": [
              "'ürünü alalı 3 hafta kadar oldu. aralıksız kullanıyorum bilgisyarım sürekli açık durur ve ben günde yaklaşık 12 saat başındayım mousesu çok kullanırım. şimdiye kadar bir problem yaşamadım ve çok memnunum almak isteyenlere tavsiye ederim.'"
            ],
            "application/vnd.google.colaboratory.intrinsic+json": {
              "type": "string"
            }
          },
          "metadata": {},
          "execution_count": 127
        }
      ],
      "source": [
        "# looking at the 800.index data\n",
        "x_train[800]"
      ]
    },
    {
      "cell_type": "code",
      "execution_count": 128,
      "metadata": {
        "colab": {
          "base_uri": "https://localhost:8080/"
        },
        "id": "L41akVBzV3s5",
        "outputId": "f223564e-db6c-4a32-8a5c-656e7c4184b0"
      },
      "outputs": [
        {
          "output_type": "stream",
          "name": "stdout",
          "text": [
            "[21, 344, 50, 257, 39, 71, 3916, 36, 8527, 297, 1141, 5176, 3, 44, 139, 166, 727, 256, 8528, 8529, 2, 1037, 580, 39, 1, 296, 243, 3, 2, 69, 152, 407, 8, 10]\n"
          ]
        }
      ],
      "source": [
        "# looking at the 800.index data as tokenized form\n",
        "print(x_train_tokens[800])"
      ]
    },
    {
      "cell_type": "code",
      "execution_count": 129,
      "metadata": {
        "id": "fU6xtIf0V3s6"
      },
      "outputs": [],
      "source": [
        "# tokenizaton of the test set\n",
        "x_test_tokens = tokenizer.texts_to_sequences(x_test)"
      ]
    },
    {
      "cell_type": "code",
      "execution_count": 130,
      "metadata": {
        "id": "-59NkFMKV3s6"
      },
      "outputs": [],
      "source": [
        "'''\n",
        "we always work with data of certain sizes. all data should be made to the same size.\n",
        "we will specify a size. if the size of the data is smaller than this specified size,\n",
        "it will fill in the missing places by assigning \"0\"\n",
        "'''\n",
        "\n",
        "# getting every review's token size then writing the token size into a list.\n",
        "num_tokens = [len(tokens) for tokens in x_train_tokens + x_test_tokens]\n",
        "# for the easy calculations, we transform the list to numpy array.\n",
        "# in this way of numpy library, we can get token or token size informations easily\n",
        "num_tokens = np.array(num_tokens)"
      ]
    },
    {
      "cell_type": "code",
      "execution_count": 131,
      "metadata": {
        "colab": {
          "base_uri": "https://localhost:8080/"
        },
        "id": "GYZ2Wor9V3s6",
        "outputId": "256f8910-498c-453b-fed2-af2402fe3877"
      },
      "outputs": [
        {
          "output_type": "execute_result",
          "data": {
            "text/plain": [
              "20.498633220775044"
            ]
          },
          "metadata": {},
          "execution_count": 131
        }
      ],
      "source": [
        "# calculation the average number of tokens found in a review (in all dataset)\n",
        "np.mean(num_tokens)"
      ]
    },
    {
      "cell_type": "code",
      "execution_count": 132,
      "metadata": {
        "colab": {
          "base_uri": "https://localhost:8080/"
        },
        "id": "nUIKIA2-V3s6",
        "outputId": "dd253c4c-4b06-484c-a3f8-313b5d702aa2"
      },
      "outputs": [
        {
          "output_type": "execute_result",
          "data": {
            "text/plain": [
              "231"
            ]
          },
          "metadata": {},
          "execution_count": 132
        }
      ],
      "source": [
        "# looking at the max number of tokens found in a review (in all dataset)\n",
        "np.max(num_tokens)"
      ]
    },
    {
      "cell_type": "code",
      "execution_count": 133,
      "metadata": {
        "colab": {
          "base_uri": "https://localhost:8080/"
        },
        "id": "_wOrj4nNV3s7",
        "outputId": "f428bd9b-66f8-4127-dc78-f5f549fc3313"
      },
      "outputs": [
        {
          "output_type": "execute_result",
          "data": {
            "text/plain": [
              "5711"
            ]
          },
          "metadata": {},
          "execution_count": 133
        }
      ],
      "source": [
        "# founding the maximum sized review in all dataset with argmax function\n",
        "np.argmax(num_tokens)"
      ]
    },
    {
      "cell_type": "code",
      "execution_count": 134,
      "metadata": {
        "colab": {
          "base_uri": "https://localhost:8080/",
          "height": 35
        },
        "id": "QOGoFzuiV3s7",
        "outputId": "2d8e532b-3b53-45eb-84e6-a7b5856f6ded"
      },
      "outputs": [
        {
          "output_type": "execute_result",
          "data": {
            "text/plain": [
              "'Ürünü biraz önce teslim aldım ve hemen denedim gerçekten kaliteli ve verilen paraya layık bir ürün almak isteyenlere hiç tereddütsüz öneririm...'"
            ],
            "application/vnd.google.colaboratory.intrinsic+json": {
              "type": "string"
            }
          },
          "metadata": {},
          "execution_count": 134
        }
      ],
      "source": [
        "x_train[670]"
      ]
    },
    {
      "cell_type": "code",
      "execution_count": 135,
      "metadata": {
        "colab": {
          "base_uri": "https://localhost:8080/"
        },
        "id": "4njMvuIgV3s7",
        "outputId": "6c3a3d25-e1e2-49bd-e299-e297b0bbd764"
      },
      "outputs": [
        {
          "output_type": "execute_result",
          "data": {
            "text/plain": [
              "52"
            ]
          },
          "metadata": {},
          "execution_count": 135
        }
      ],
      "source": [
        "# we should give the spesific sized datas to network. to equal all data(review) size; we pedding the data's tokens.\n",
        "max_tokens = np.mean(num_tokens) + 2 * np.std(num_tokens)\n",
        "max_tokens = int(max_tokens) # convertion to integer\n",
        "max_tokens\n",
        "# we will give data with 52 tokens to our network"
      ]
    },
    {
      "cell_type": "code",
      "execution_count": 136,
      "metadata": {
        "colab": {
          "base_uri": "https://localhost:8080/"
        },
        "id": "g2A7DFiVV3s7",
        "outputId": "5dd028f5-4d67-4771-f986-b5e3fc50eac4"
      },
      "outputs": [
        {
          "output_type": "execute_result",
          "data": {
            "text/plain": [
              "0.9588358256954495"
            ]
          },
          "metadata": {},
          "execution_count": 136
        }
      ],
      "source": [
        "np.sum(num_tokens < max_tokens) / len(num_tokens)\n",
        "# looking at the \"these 52 tokens cover how many of the data\"\n",
        "# 95% have less than 52 tokens\n",
        "# 5% have more than 52 tokens\n",
        "# we will add or delete tokens from each data to bring the token count of each data to 52\n",
        "# data loss occurs in token deletion. however, this loss will be ignored because the dataset is large enough."
      ]
    },
    {
      "cell_type": "code",
      "execution_count": 137,
      "metadata": {
        "id": "e8rUicOvV3s8"
      },
      "outputs": [],
      "source": [
        "# with this padding, every review(data) has 52 tokens.\n",
        "# for train set:\n",
        "x_train_pad = pad_sequences(x_train_tokens, maxlen=max_tokens)"
      ]
    },
    {
      "cell_type": "code",
      "execution_count": 138,
      "metadata": {
        "id": "eNyxLfJ2V3s8"
      },
      "outputs": [],
      "source": [
        "# with this padding, every review(data) has 52 tokens.\n",
        "# for test set:\n",
        "x_test_pad = pad_sequences(x_test_tokens, maxlen=max_tokens)"
      ]
    },
    {
      "cell_type": "code",
      "execution_count": 139,
      "metadata": {
        "colab": {
          "base_uri": "https://localhost:8080/"
        },
        "id": "F_KGtgOzV3s8",
        "outputId": "5657bde2-a5b6-4022-ba6a-2c4508c36f4e"
      },
      "outputs": [
        {
          "output_type": "execute_result",
          "data": {
            "text/plain": [
              "(4975, 52)"
            ]
          },
          "metadata": {},
          "execution_count": 139
        }
      ],
      "source": [
        "x_train_pad.shape"
      ]
    },
    {
      "cell_type": "code",
      "execution_count": 140,
      "metadata": {
        "colab": {
          "base_uri": "https://localhost:8080/"
        },
        "id": "yT9-55FTV3s8",
        "outputId": "47f13322-f590-4faa-9691-8b7da82f0a9e"
      },
      "outputs": [
        {
          "output_type": "execute_result",
          "data": {
            "text/plain": [
              "(1244, 52)"
            ]
          },
          "metadata": {},
          "execution_count": 140
        }
      ],
      "source": [
        "x_test_pad.shape"
      ]
    },
    {
      "cell_type": "code",
      "execution_count": 141,
      "metadata": {
        "colab": {
          "base_uri": "https://localhost:8080/"
        },
        "id": "ebVFDcgFV3s8",
        "outputId": "856f356c-7e67-420b-f4ae-2b5e8bec4f93"
      },
      "outputs": [
        {
          "output_type": "execute_result",
          "data": {
            "text/plain": [
              "array([  21,  344,   50,  257,   39,   71, 3916,   36, 8527,  297, 1141,\n",
              "       5176,    3,   44,  139,  166,  727,  256, 8528, 8529,    2, 1037,\n",
              "        580,   39,    1,  296,  243,    3,    2,   69,  152,  407,    8,\n",
              "         10])"
            ]
          },
          "metadata": {},
          "execution_count": 141
        }
      ],
      "source": [
        "np.array(x_train_tokens[800])"
      ]
    },
    {
      "cell_type": "code",
      "execution_count": 142,
      "metadata": {
        "colab": {
          "base_uri": "https://localhost:8080/"
        },
        "id": "O--Tr4ElV3s9",
        "outputId": "35f195fe-39e3-49a0-a1e5-37ea5cfe56a9"
      },
      "outputs": [
        {
          "output_type": "execute_result",
          "data": {
            "text/plain": [
              "array([   0,    0,    0,    0,    0,    0,    0,    0,    0,    0,    0,\n",
              "          0,    0,    0,    0,    0,    0,    0,   21,  344,   50,  257,\n",
              "         39,   71, 3916,   36, 8527,  297, 1141, 5176,    3,   44,  139,\n",
              "        166,  727,  256, 8528, 8529,    2, 1037,  580,   39,    1,  296,\n",
              "        243,    3,    2,   69,  152,  407,    8,   10], dtype=int32)"
            ]
          },
          "metadata": {},
          "execution_count": 142
        }
      ],
      "source": [
        "x_train_pad[800]"
      ]
    },
    {
      "cell_type": "code",
      "execution_count": 144,
      "metadata": {
        "id": "iKeOuJNAV3s9"
      },
      "outputs": [],
      "source": [
        "# with this code, we can give the number to find the releated word to given number\n",
        "idx = tokenizer.word_index # getting the word index\n",
        "inverse_map = dict(zip(idx.values(), idx.keys()))"
      ]
    },
    {
      "cell_type": "code",
      "execution_count": 146,
      "metadata": {
        "id": "mWgOHXVlV3s9"
      },
      "outputs": [],
      "source": [
        "# creating a function to use the previous expression on a text:\n",
        "def tokens_to_string(tokens):\n",
        "    words = [inverse_map[token] for token in tokens if token!=0]\n",
        "    text = ' '.join(words) # with this, the words will be written one after the other with a space between them\n",
        "    return text"
      ]
    },
    {
      "cell_type": "code",
      "execution_count": 149,
      "metadata": {
        "colab": {
          "base_uri": "https://localhost:8080/",
          "height": 53
        },
        "id": "KJf8hBxTV3s9",
        "outputId": "11e22cd2-b4da-4e6a-c6da-4004b3131090"
      },
      "outputs": [
        {
          "output_type": "execute_result",
          "data": {
            "text/plain": [
              "'ürünü alalı 3 hafta kadar oldu. aralıksız kullanıyorum bilgisyarım sürekli açık durur ve ben günde yaklaşık 12 saat başındayım mousesu çok kullanırım. şimdiye kadar bir problem yaşamadım ve çok memnunum almak isteyenlere tavsiye ederim.'"
            ],
            "application/vnd.google.colaboratory.intrinsic+json": {
              "type": "string"
            }
          },
          "metadata": {},
          "execution_count": 149
        }
      ],
      "source": [
        "x_train[800]\n",
        "# pretokenized 800.indexed word"
      ]
    },
    {
      "cell_type": "code",
      "execution_count": 150,
      "metadata": {
        "colab": {
          "base_uri": "https://localhost:8080/",
          "height": 53
        },
        "id": "nRhwmFN2V3s9",
        "outputId": "8400a2b8-fcc3-43a8-be9b-31c2d33e6211"
      },
      "outputs": [
        {
          "output_type": "execute_result",
          "data": {
            "text/plain": [
              "'ürünü alalı 3 hafta kadar oldu aralıksız kullanıyorum bilgisyarım sürekli açık durur ve ben günde yaklaşık 12 saat başındayım mousesu çok kullanırım şimdiye kadar bir problem yaşamadım ve çok memnunum almak isteyenlere tavsiye ederim'"
            ],
            "application/vnd.google.colaboratory.intrinsic+json": {
              "type": "string"
            }
          },
          "metadata": {},
          "execution_count": 150
        }
      ],
      "source": [
        "tokens_to_string(x_train_tokens[800])\n",
        "# with x_train_tokens[], we get tokens of 800.indexed word as numeralically"
      ]
    },
    {
      "cell_type": "markdown",
      "source": [
        "# Model Creating & Training"
      ],
      "metadata": {
        "id": "Fbvhz2YOKbWQ"
      }
    },
    {
      "cell_type": "markdown",
      "source": [
        "Data has been loaded so far. It was divided into two parts as training and testing. tokenization has been carried out. The model is now ready to be created.\n",
        "\n",
        "First the embedding matrix will be created. Training will be held with a 3-storey GRU. There will be a single neuron at the end of the GRU. If the value produced by this last neuron is close to 1, the result will be called positive, and if it is close to 0, the result will be called negative.\n",
        "\n",
        "**Creating the model:**"
      ],
      "metadata": {
        "id": "ClcRVUiRMDbX"
      }
    },
    {
      "cell_type": "code",
      "execution_count": 152,
      "metadata": {
        "id": "bDpo9lIiV3s9"
      },
      "outputs": [],
      "source": [
        "model = Sequential()\n",
        "# creating the model with sequential quality"
      ]
    },
    {
      "cell_type": "code",
      "execution_count": 155,
      "metadata": {
        "id": "CHPEXKHOV3s-"
      },
      "outputs": [],
      "source": [
        "embedding_size = 50\n",
        "# definition of embedding matrix size\n",
        "# will create a '50' long vector size corresponding to each word"
      ]
    },
    {
      "cell_type": "code",
      "execution_count": 158,
      "metadata": {
        "id": "aIHORlcVV3s-"
      },
      "outputs": [],
      "source": [
        "# creating embedding layer in keras\n",
        "# we use randomly created vectors. we dont use glove or word2vec trained vectors.\n",
        "# adding the embedding layer to our model with model.add function:\n",
        "model.add(Embedding(input_dim=num_words,        # num_words: 10000.\n",
        "                    output_dim=embedding_size,  # embedding_size: 50. we get 10000x50 sized embedding matrix.\n",
        "                                                # we have 10000 words. and every word has 50 sized vector. vectors will create with randomly\n",
        "                    input_length=max_tokens,    # input length was determined as '52' sized with max_tokens\n",
        "                    name='embedding_layer1'))    #"
      ]
    },
    {
      "cell_type": "code",
      "execution_count": 167,
      "metadata": {
        "colab": {
          "base_uri": "https://localhost:8080/",
          "height": 53
        },
        "id": "5JeR-TjBV3s-",
        "outputId": "89fd0704-784a-4285-c4c5-578fc6ea146d"
      },
      "outputs": [
        {
          "output_type": "execute_result",
          "data": {
            "text/plain": [
              "\"\\nmodel.add(GRU(units=16, return_sequences=True))\\nmodel.add(GRU(units=8, return_sequences=True))\\nmodel.add(GRU(units=4))\\nmodel.add(Dense(1, activation='sigmoid'))\\n\""
            ],
            "application/vnd.google.colaboratory.intrinsic+json": {
              "type": "string"
            }
          },
          "metadata": {},
          "execution_count": 167
        }
      ],
      "source": [
        "model = Sequential()\n",
        "embedding_size = 50\n",
        "model.add(Embedding(input_dim=num_words, output_dim=embedding_size, input_length=max_tokens, name='embedding_layer1'))\n",
        "model.add(GRU(units=16, return_sequences=True))\n",
        "model.add(GRU(units=8, return_sequences=True))\n",
        "model.add(GRU(units=4))\n",
        "model.add(Dense(1, activation='sigmoid'))\n",
        "'''\n",
        "model.add(GRU(units=16, return_sequences=True))\n",
        "model.add(GRU(units=8, return_sequences=True))\n",
        "model.add(GRU(units=4))\n",
        "model.add(Dense(1, activation='sigmoid'))\n",
        "'''\n",
        "\n"
      ]
    },
    {
      "cell_type": "code",
      "source": [
        "from tensorflow.keras.layers import Embedding, GRU, Dense\n",
        "model.add(Embedding(input_dim=num_words, output_dim=embedding_size, input_length=max_tokens, name='embedding_layer2'))\n",
        "model.add(GRU(units=16, return_sequences=True))\n",
        "model.add(GRU(units=8, return_sequences=True))\n",
        "model.add(GRU(units=4))\n",
        "model.add(Dense(1, activation='sigmoid'))\n",
        "\n",
        "# Optimizer tanımlama\n",
        "optimizer = tf.keras.optimizers.Adam(learning_rate=0.001)\n",
        "\n",
        "# Modeli derleme\n",
        "model.compile(loss='binary_crossentropy',\n",
        "              optimizer=optimizer,\n",
        "              metrics=['accuracy'])\n",
        "\n",
        "# Şimdi model eğitim için hazır"
      ],
      "metadata": {
        "id": "VMUvL5U-Ydsp",
        "outputId": "ab69b4d3-5008-450f-eff0-3cb85b567d93",
        "colab": {
          "base_uri": "https://localhost:8080/",
          "height": 373
        }
      },
      "execution_count": 181,
      "outputs": [
        {
          "output_type": "error",
          "ename": "ValueError",
          "evalue": "ignored",
          "traceback": [
            "\u001b[0;31m---------------------------------------------------------------------------\u001b[0m",
            "\u001b[0;31mValueError\u001b[0m                                Traceback (most recent call last)",
            "\u001b[0;32m<ipython-input-181-2c5e2a317c6d>\u001b[0m in \u001b[0;36m<cell line: 12>\u001b[0;34m()\u001b[0m\n\u001b[1;32m     10\u001b[0m \u001b[0;34m\u001b[0m\u001b[0m\n\u001b[1;32m     11\u001b[0m \u001b[0;31m# Modeli derleme\u001b[0m\u001b[0;34m\u001b[0m\u001b[0;34m\u001b[0m\u001b[0m\n\u001b[0;32m---> 12\u001b[0;31m model.compile(loss='binary_crossentropy',\n\u001b[0m\u001b[1;32m     13\u001b[0m               \u001b[0moptimizer\u001b[0m\u001b[0;34m=\u001b[0m\u001b[0moptimizer\u001b[0m\u001b[0;34m,\u001b[0m\u001b[0;34m\u001b[0m\u001b[0;34m\u001b[0m\u001b[0m\n\u001b[1;32m     14\u001b[0m               metrics=['accuracy'])\n",
            "\u001b[0;32m/usr/local/lib/python3.10/dist-packages/tensorflow/python/keras/engine/training.py\u001b[0m in \u001b[0;36mcompile\u001b[0;34m(self, optimizer, loss, metrics, loss_weights, weighted_metrics, run_eagerly, steps_per_execution, **kwargs)\u001b[0m\n\u001b[1;32m    566\u001b[0m       \u001b[0mself\u001b[0m\u001b[0;34m.\u001b[0m\u001b[0m_run_eagerly\u001b[0m \u001b[0;34m=\u001b[0m \u001b[0mrun_eagerly\u001b[0m\u001b[0;34m\u001b[0m\u001b[0;34m\u001b[0m\u001b[0m\n\u001b[1;32m    567\u001b[0m \u001b[0;34m\u001b[0m\u001b[0m\n\u001b[0;32m--> 568\u001b[0;31m       \u001b[0mself\u001b[0m\u001b[0;34m.\u001b[0m\u001b[0moptimizer\u001b[0m \u001b[0;34m=\u001b[0m \u001b[0mself\u001b[0m\u001b[0;34m.\u001b[0m\u001b[0m_get_optimizer\u001b[0m\u001b[0;34m(\u001b[0m\u001b[0moptimizer\u001b[0m\u001b[0;34m)\u001b[0m\u001b[0;34m\u001b[0m\u001b[0;34m\u001b[0m\u001b[0m\n\u001b[0m\u001b[1;32m    569\u001b[0m       self.compiled_loss = compile_utils.LossesContainer(\n\u001b[1;32m    570\u001b[0m           loss, loss_weights, output_names=self.output_names)\n",
            "\u001b[0;32m/usr/local/lib/python3.10/dist-packages/tensorflow/python/keras/engine/training.py\u001b[0m in \u001b[0;36m_get_optimizer\u001b[0;34m(self, optimizer)\u001b[0m\n\u001b[1;32m    604\u001b[0m       \u001b[0;32mreturn\u001b[0m \u001b[0mopt\u001b[0m\u001b[0;34m\u001b[0m\u001b[0;34m\u001b[0m\u001b[0m\n\u001b[1;32m    605\u001b[0m \u001b[0;34m\u001b[0m\u001b[0m\n\u001b[0;32m--> 606\u001b[0;31m     \u001b[0;32mreturn\u001b[0m \u001b[0mnest\u001b[0m\u001b[0;34m.\u001b[0m\u001b[0mmap_structure\u001b[0m\u001b[0;34m(\u001b[0m\u001b[0m_get_single_optimizer\u001b[0m\u001b[0;34m,\u001b[0m \u001b[0moptimizer\u001b[0m\u001b[0;34m)\u001b[0m\u001b[0;34m\u001b[0m\u001b[0;34m\u001b[0m\u001b[0m\n\u001b[0m\u001b[1;32m    607\u001b[0m \u001b[0;34m\u001b[0m\u001b[0m\n\u001b[1;32m    608\u001b[0m   \u001b[0;34m@\u001b[0m\u001b[0mtrackable\u001b[0m\u001b[0;34m.\u001b[0m\u001b[0mno_automatic_dependency_tracking\u001b[0m\u001b[0;34m\u001b[0m\u001b[0;34m\u001b[0m\u001b[0m\n",
            "\u001b[0;32m/usr/local/lib/python3.10/dist-packages/tensorflow/python/util/nest.py\u001b[0m in \u001b[0;36mmap_structure\u001b[0;34m(func, *structure, **kwargs)\u001b[0m\n\u001b[1;32m    915\u001b[0m \u001b[0;34m\u001b[0m\u001b[0m\n\u001b[1;32m    916\u001b[0m   return pack_sequence_as(\n\u001b[0;32m--> 917\u001b[0;31m       \u001b[0mstructure\u001b[0m\u001b[0;34m[\u001b[0m\u001b[0;36m0\u001b[0m\u001b[0;34m]\u001b[0m\u001b[0;34m,\u001b[0m \u001b[0;34m[\u001b[0m\u001b[0mfunc\u001b[0m\u001b[0;34m(\u001b[0m\u001b[0;34m*\u001b[0m\u001b[0mx\u001b[0m\u001b[0;34m)\u001b[0m \u001b[0;32mfor\u001b[0m \u001b[0mx\u001b[0m \u001b[0;32min\u001b[0m \u001b[0mentries\u001b[0m\u001b[0;34m]\u001b[0m\u001b[0;34m,\u001b[0m\u001b[0;34m\u001b[0m\u001b[0;34m\u001b[0m\u001b[0m\n\u001b[0m\u001b[1;32m    918\u001b[0m       expand_composites=expand_composites)\n\u001b[1;32m    919\u001b[0m \u001b[0;34m\u001b[0m\u001b[0m\n",
            "\u001b[0;32m/usr/local/lib/python3.10/dist-packages/tensorflow/python/util/nest.py\u001b[0m in \u001b[0;36m<listcomp>\u001b[0;34m(.0)\u001b[0m\n\u001b[1;32m    915\u001b[0m \u001b[0;34m\u001b[0m\u001b[0m\n\u001b[1;32m    916\u001b[0m   return pack_sequence_as(\n\u001b[0;32m--> 917\u001b[0;31m       \u001b[0mstructure\u001b[0m\u001b[0;34m[\u001b[0m\u001b[0;36m0\u001b[0m\u001b[0;34m]\u001b[0m\u001b[0;34m,\u001b[0m \u001b[0;34m[\u001b[0m\u001b[0mfunc\u001b[0m\u001b[0;34m(\u001b[0m\u001b[0;34m*\u001b[0m\u001b[0mx\u001b[0m\u001b[0;34m)\u001b[0m \u001b[0;32mfor\u001b[0m \u001b[0mx\u001b[0m \u001b[0;32min\u001b[0m \u001b[0mentries\u001b[0m\u001b[0;34m]\u001b[0m\u001b[0;34m,\u001b[0m\u001b[0;34m\u001b[0m\u001b[0;34m\u001b[0m\u001b[0m\n\u001b[0m\u001b[1;32m    918\u001b[0m       expand_composites=expand_composites)\n\u001b[1;32m    919\u001b[0m \u001b[0;34m\u001b[0m\u001b[0m\n",
            "\u001b[0;32m/usr/local/lib/python3.10/dist-packages/tensorflow/python/keras/engine/training.py\u001b[0m in \u001b[0;36m_get_single_optimizer\u001b[0;34m(opt)\u001b[0m\n\u001b[1;32m    595\u001b[0m \u001b[0;34m\u001b[0m\u001b[0m\n\u001b[1;32m    596\u001b[0m     \u001b[0;32mdef\u001b[0m \u001b[0m_get_single_optimizer\u001b[0m\u001b[0;34m(\u001b[0m\u001b[0mopt\u001b[0m\u001b[0;34m)\u001b[0m\u001b[0;34m:\u001b[0m\u001b[0;34m\u001b[0m\u001b[0;34m\u001b[0m\u001b[0m\n\u001b[0;32m--> 597\u001b[0;31m       \u001b[0mopt\u001b[0m \u001b[0;34m=\u001b[0m \u001b[0moptimizers\u001b[0m\u001b[0;34m.\u001b[0m\u001b[0mget\u001b[0m\u001b[0;34m(\u001b[0m\u001b[0mopt\u001b[0m\u001b[0;34m)\u001b[0m\u001b[0;34m\u001b[0m\u001b[0;34m\u001b[0m\u001b[0m\n\u001b[0m\u001b[1;32m    598\u001b[0m       if (loss_scale is not None and\n\u001b[1;32m    599\u001b[0m           not isinstance(opt, lso.LossScaleOptimizer)):\n",
            "\u001b[0;32m/usr/local/lib/python3.10/dist-packages/tensorflow/python/keras/optimizers.py\u001b[0m in \u001b[0;36mget\u001b[0;34m(identifier)\u001b[0m\n\u001b[1;32m    129\u001b[0m     \u001b[0;32mreturn\u001b[0m \u001b[0mdeserialize\u001b[0m\u001b[0;34m(\u001b[0m\u001b[0mconfig\u001b[0m\u001b[0;34m)\u001b[0m\u001b[0;34m\u001b[0m\u001b[0;34m\u001b[0m\u001b[0m\n\u001b[1;32m    130\u001b[0m   \u001b[0;32melse\u001b[0m\u001b[0;34m:\u001b[0m\u001b[0;34m\u001b[0m\u001b[0;34m\u001b[0m\u001b[0m\n\u001b[0;32m--> 131\u001b[0;31m     raise ValueError(\n\u001b[0m\u001b[1;32m    132\u001b[0m         'Could not interpret optimizer identifier: {}'.format(identifier))\n",
            "\u001b[0;31mValueError\u001b[0m: Could not interpret optimizer identifier: <keras.optimizers.adam.Adam object at 0x7f71a896a9e0>"
          ]
        }
      ]
    },
    {
      "cell_type": "code",
      "execution_count": 176,
      "metadata": {
        "id": "iOTMfzLPV3s-"
      },
      "outputs": [],
      "source": [
        " import tensorflow as tf\n",
        " #optimizer = Adam(learning_rate=1e-3)\n",
        " optimizer = tf.keras.optimizers.Adam(learning_rate=0.001)"
      ]
    },
    {
      "cell_type": "code",
      "execution_count": 178,
      "metadata": {
        "colab": {
          "base_uri": "https://localhost:8080/",
          "height": 355
        },
        "id": "L6bagAC3V3s-",
        "outputId": "4357d860-4dd7-4a85-cd62-071569aa5868"
      },
      "outputs": [
        {
          "output_type": "error",
          "ename": "ValueError",
          "evalue": "ignored",
          "traceback": [
            "\u001b[0;31m---------------------------------------------------------------------------\u001b[0m",
            "\u001b[0;31mValueError\u001b[0m                                Traceback (most recent call last)",
            "\u001b[0;32m<ipython-input-178-558db3b2272f>\u001b[0m in \u001b[0;36m<cell line: 2>\u001b[0;34m()\u001b[0m\n\u001b[1;32m      1\u001b[0m \u001b[0;31m# Compile the model\u001b[0m\u001b[0;34m\u001b[0m\u001b[0;34m\u001b[0m\u001b[0m\n\u001b[0;32m----> 2\u001b[0;31m model.compile(loss='binary_crossentropy',\n\u001b[0m\u001b[1;32m      3\u001b[0m               \u001b[0moptimizer\u001b[0m\u001b[0;34m=\u001b[0m\u001b[0moptimizer\u001b[0m\u001b[0;34m,\u001b[0m\u001b[0;34m\u001b[0m\u001b[0;34m\u001b[0m\u001b[0m\n\u001b[1;32m      4\u001b[0m               metrics=['accuracy'])\n",
            "\u001b[0;32m/usr/local/lib/python3.10/dist-packages/tensorflow/python/keras/engine/training.py\u001b[0m in \u001b[0;36mcompile\u001b[0;34m(self, optimizer, loss, metrics, loss_weights, weighted_metrics, run_eagerly, steps_per_execution, **kwargs)\u001b[0m\n\u001b[1;32m    566\u001b[0m       \u001b[0mself\u001b[0m\u001b[0;34m.\u001b[0m\u001b[0m_run_eagerly\u001b[0m \u001b[0;34m=\u001b[0m \u001b[0mrun_eagerly\u001b[0m\u001b[0;34m\u001b[0m\u001b[0;34m\u001b[0m\u001b[0m\n\u001b[1;32m    567\u001b[0m \u001b[0;34m\u001b[0m\u001b[0m\n\u001b[0;32m--> 568\u001b[0;31m       \u001b[0mself\u001b[0m\u001b[0;34m.\u001b[0m\u001b[0moptimizer\u001b[0m \u001b[0;34m=\u001b[0m \u001b[0mself\u001b[0m\u001b[0;34m.\u001b[0m\u001b[0m_get_optimizer\u001b[0m\u001b[0;34m(\u001b[0m\u001b[0moptimizer\u001b[0m\u001b[0;34m)\u001b[0m\u001b[0;34m\u001b[0m\u001b[0;34m\u001b[0m\u001b[0m\n\u001b[0m\u001b[1;32m    569\u001b[0m       self.compiled_loss = compile_utils.LossesContainer(\n\u001b[1;32m    570\u001b[0m           loss, loss_weights, output_names=self.output_names)\n",
            "\u001b[0;32m/usr/local/lib/python3.10/dist-packages/tensorflow/python/keras/engine/training.py\u001b[0m in \u001b[0;36m_get_optimizer\u001b[0;34m(self, optimizer)\u001b[0m\n\u001b[1;32m    604\u001b[0m       \u001b[0;32mreturn\u001b[0m \u001b[0mopt\u001b[0m\u001b[0;34m\u001b[0m\u001b[0;34m\u001b[0m\u001b[0m\n\u001b[1;32m    605\u001b[0m \u001b[0;34m\u001b[0m\u001b[0m\n\u001b[0;32m--> 606\u001b[0;31m     \u001b[0;32mreturn\u001b[0m \u001b[0mnest\u001b[0m\u001b[0;34m.\u001b[0m\u001b[0mmap_structure\u001b[0m\u001b[0;34m(\u001b[0m\u001b[0m_get_single_optimizer\u001b[0m\u001b[0;34m,\u001b[0m \u001b[0moptimizer\u001b[0m\u001b[0;34m)\u001b[0m\u001b[0;34m\u001b[0m\u001b[0;34m\u001b[0m\u001b[0m\n\u001b[0m\u001b[1;32m    607\u001b[0m \u001b[0;34m\u001b[0m\u001b[0m\n\u001b[1;32m    608\u001b[0m   \u001b[0;34m@\u001b[0m\u001b[0mtrackable\u001b[0m\u001b[0;34m.\u001b[0m\u001b[0mno_automatic_dependency_tracking\u001b[0m\u001b[0;34m\u001b[0m\u001b[0;34m\u001b[0m\u001b[0m\n",
            "\u001b[0;32m/usr/local/lib/python3.10/dist-packages/tensorflow/python/util/nest.py\u001b[0m in \u001b[0;36mmap_structure\u001b[0;34m(func, *structure, **kwargs)\u001b[0m\n\u001b[1;32m    915\u001b[0m \u001b[0;34m\u001b[0m\u001b[0m\n\u001b[1;32m    916\u001b[0m   return pack_sequence_as(\n\u001b[0;32m--> 917\u001b[0;31m       \u001b[0mstructure\u001b[0m\u001b[0;34m[\u001b[0m\u001b[0;36m0\u001b[0m\u001b[0;34m]\u001b[0m\u001b[0;34m,\u001b[0m \u001b[0;34m[\u001b[0m\u001b[0mfunc\u001b[0m\u001b[0;34m(\u001b[0m\u001b[0;34m*\u001b[0m\u001b[0mx\u001b[0m\u001b[0;34m)\u001b[0m \u001b[0;32mfor\u001b[0m \u001b[0mx\u001b[0m \u001b[0;32min\u001b[0m \u001b[0mentries\u001b[0m\u001b[0;34m]\u001b[0m\u001b[0;34m,\u001b[0m\u001b[0;34m\u001b[0m\u001b[0;34m\u001b[0m\u001b[0m\n\u001b[0m\u001b[1;32m    918\u001b[0m       expand_composites=expand_composites)\n\u001b[1;32m    919\u001b[0m \u001b[0;34m\u001b[0m\u001b[0m\n",
            "\u001b[0;32m/usr/local/lib/python3.10/dist-packages/tensorflow/python/util/nest.py\u001b[0m in \u001b[0;36m<listcomp>\u001b[0;34m(.0)\u001b[0m\n\u001b[1;32m    915\u001b[0m \u001b[0;34m\u001b[0m\u001b[0m\n\u001b[1;32m    916\u001b[0m   return pack_sequence_as(\n\u001b[0;32m--> 917\u001b[0;31m       \u001b[0mstructure\u001b[0m\u001b[0;34m[\u001b[0m\u001b[0;36m0\u001b[0m\u001b[0;34m]\u001b[0m\u001b[0;34m,\u001b[0m \u001b[0;34m[\u001b[0m\u001b[0mfunc\u001b[0m\u001b[0;34m(\u001b[0m\u001b[0;34m*\u001b[0m\u001b[0mx\u001b[0m\u001b[0;34m)\u001b[0m \u001b[0;32mfor\u001b[0m \u001b[0mx\u001b[0m \u001b[0;32min\u001b[0m \u001b[0mentries\u001b[0m\u001b[0;34m]\u001b[0m\u001b[0;34m,\u001b[0m\u001b[0;34m\u001b[0m\u001b[0;34m\u001b[0m\u001b[0m\n\u001b[0m\u001b[1;32m    918\u001b[0m       expand_composites=expand_composites)\n\u001b[1;32m    919\u001b[0m \u001b[0;34m\u001b[0m\u001b[0m\n",
            "\u001b[0;32m/usr/local/lib/python3.10/dist-packages/tensorflow/python/keras/engine/training.py\u001b[0m in \u001b[0;36m_get_single_optimizer\u001b[0;34m(opt)\u001b[0m\n\u001b[1;32m    595\u001b[0m \u001b[0;34m\u001b[0m\u001b[0m\n\u001b[1;32m    596\u001b[0m     \u001b[0;32mdef\u001b[0m \u001b[0m_get_single_optimizer\u001b[0m\u001b[0;34m(\u001b[0m\u001b[0mopt\u001b[0m\u001b[0;34m)\u001b[0m\u001b[0;34m:\u001b[0m\u001b[0;34m\u001b[0m\u001b[0;34m\u001b[0m\u001b[0m\n\u001b[0;32m--> 597\u001b[0;31m       \u001b[0mopt\u001b[0m \u001b[0;34m=\u001b[0m \u001b[0moptimizers\u001b[0m\u001b[0;34m.\u001b[0m\u001b[0mget\u001b[0m\u001b[0;34m(\u001b[0m\u001b[0mopt\u001b[0m\u001b[0;34m)\u001b[0m\u001b[0;34m\u001b[0m\u001b[0;34m\u001b[0m\u001b[0m\n\u001b[0m\u001b[1;32m    598\u001b[0m       if (loss_scale is not None and\n\u001b[1;32m    599\u001b[0m           not isinstance(opt, lso.LossScaleOptimizer)):\n",
            "\u001b[0;32m/usr/local/lib/python3.10/dist-packages/tensorflow/python/keras/optimizers.py\u001b[0m in \u001b[0;36mget\u001b[0;34m(identifier)\u001b[0m\n\u001b[1;32m    129\u001b[0m     \u001b[0;32mreturn\u001b[0m \u001b[0mdeserialize\u001b[0m\u001b[0;34m(\u001b[0m\u001b[0mconfig\u001b[0m\u001b[0;34m)\u001b[0m\u001b[0;34m\u001b[0m\u001b[0;34m\u001b[0m\u001b[0m\n\u001b[1;32m    130\u001b[0m   \u001b[0;32melse\u001b[0m\u001b[0;34m:\u001b[0m\u001b[0;34m\u001b[0m\u001b[0;34m\u001b[0m\u001b[0m\n\u001b[0;32m--> 131\u001b[0;31m     raise ValueError(\n\u001b[0m\u001b[1;32m    132\u001b[0m         'Could not interpret optimizer identifier: {}'.format(identifier))\n",
            "\u001b[0;31mValueError\u001b[0m: Could not interpret optimizer identifier: <keras.optimizers.adam.Adam object at 0x7f71a89d2fb0>"
          ]
        }
      ],
      "source": [
        "# Compile the model\n",
        "model.compile(loss='binary_crossentropy',\n",
        "              optimizer=optimizer,\n",
        "              metrics=['accuracy'])\n"
      ]
    },
    {
      "cell_type": "code",
      "execution_count": null,
      "metadata": {
        "id": "BArtbz9TV3s_"
      },
      "outputs": [],
      "source": [
        "model.summary()"
      ]
    },
    {
      "cell_type": "code",
      "execution_count": null,
      "metadata": {
        "id": "7351yj0QV3tA"
      },
      "outputs": [],
      "source": [
        "model.fit(x_train_pad, y_train, epochs=5, batch_size=256)"
      ]
    },
    {
      "cell_type": "code",
      "execution_count": null,
      "metadata": {
        "id": "sftFVGSLV3tA"
      },
      "outputs": [],
      "source": [
        "result = model.evaluate(x_test_pad, y_test)"
      ]
    },
    {
      "cell_type": "code",
      "execution_count": null,
      "metadata": {
        "id": "bi5EHHp1V3tA"
      },
      "outputs": [],
      "source": [
        "result[1]"
      ]
    },
    {
      "cell_type": "code",
      "execution_count": 30,
      "metadata": {
        "colab": {
          "base_uri": "https://localhost:8080/",
          "height": 193
        },
        "id": "WTY3-89uV3tA",
        "outputId": "d047e32a-9bae-4a45-b458-5a03c555357d"
      },
      "outputs": [
        {
          "output_type": "error",
          "ename": "NameError",
          "evalue": "ignored",
          "traceback": [
            "\u001b[0;31m---------------------------------------------------------------------------\u001b[0m",
            "\u001b[0;31mNameError\u001b[0m                                 Traceback (most recent call last)",
            "\u001b[0;32m<ipython-input-30-b6aa6907fc38>\u001b[0m in \u001b[0;36m<cell line: 1>\u001b[0;34m()\u001b[0m\n\u001b[0;32m----> 1\u001b[0;31m \u001b[0my_pred\u001b[0m \u001b[0;34m=\u001b[0m \u001b[0mmodel\u001b[0m\u001b[0;34m.\u001b[0m\u001b[0mpredict\u001b[0m\u001b[0;34m(\u001b[0m\u001b[0mx\u001b[0m\u001b[0;34m=\u001b[0m\u001b[0mx_test_pad\u001b[0m\u001b[0;34m[\u001b[0m\u001b[0;36m0\u001b[0m\u001b[0;34m:\u001b[0m\u001b[0;36m1000\u001b[0m\u001b[0;34m]\u001b[0m\u001b[0;34m)\u001b[0m\u001b[0;34m\u001b[0m\u001b[0;34m\u001b[0m\u001b[0m\n\u001b[0m\u001b[1;32m      2\u001b[0m \u001b[0my_pred\u001b[0m \u001b[0;34m=\u001b[0m \u001b[0my_pred\u001b[0m\u001b[0;34m.\u001b[0m\u001b[0mT\u001b[0m\u001b[0;34m[\u001b[0m\u001b[0;36m0\u001b[0m\u001b[0;34m]\u001b[0m\u001b[0;34m\u001b[0m\u001b[0;34m\u001b[0m\u001b[0m\n",
            "\u001b[0;31mNameError\u001b[0m: name 'model' is not defined"
          ]
        }
      ],
      "source": [
        "y_pred = model.predict(x=x_test_pad[0:1000])\n",
        "y_pred = y_pred.T[0]"
      ]
    },
    {
      "cell_type": "code",
      "execution_count": null,
      "metadata": {
        "id": "DVtBLcE7V3tB"
      },
      "outputs": [],
      "source": [
        "cls_pred = np.array([1.0 if p>0.5 else 0.0 for p in y_pred])"
      ]
    },
    {
      "cell_type": "code",
      "execution_count": null,
      "metadata": {
        "id": "GkHkj1BCV3tB"
      },
      "outputs": [],
      "source": [
        "cls_true = np.array(y_test[0:1000])"
      ]
    },
    {
      "cell_type": "code",
      "execution_count": null,
      "metadata": {
        "id": "KBmkcpdBV3tB"
      },
      "outputs": [],
      "source": [
        "incorrect = np.where(cls_pred != cls_true)\n",
        "incorrect = incorrect[0]"
      ]
    },
    {
      "cell_type": "code",
      "execution_count": null,
      "metadata": {
        "id": "H2lbUYBUV3tB"
      },
      "outputs": [],
      "source": [
        "len(incorrect)"
      ]
    },
    {
      "cell_type": "code",
      "execution_count": null,
      "metadata": {
        "id": "sh42tvfUV3tB"
      },
      "outputs": [],
      "source": [
        "idx = incorrect[0]\n",
        "idx"
      ]
    },
    {
      "cell_type": "code",
      "execution_count": null,
      "metadata": {
        "id": "VPp0T4jvV3tC"
      },
      "outputs": [],
      "source": [
        "text = x_test[idx]\n",
        "text"
      ]
    },
    {
      "cell_type": "code",
      "execution_count": null,
      "metadata": {
        "id": "FVdt0VGwV3tC"
      },
      "outputs": [],
      "source": [
        "y_pred[idx]"
      ]
    },
    {
      "cell_type": "code",
      "execution_count": null,
      "metadata": {
        "id": "wOOZN9P4V3tC"
      },
      "outputs": [],
      "source": [
        "cls_true[idx]"
      ]
    },
    {
      "cell_type": "code",
      "execution_count": null,
      "metadata": {
        "id": "M2381oxgV3tC"
      },
      "outputs": [],
      "source": [
        "text1 = \"bu ürün çok iyi herkese tavsiye ederim\"\n",
        "text2 = \"kargo çok hızlı aynı gün elime geçti\"\n",
        "text3 = \"büyük bir hayal kırıklığı yaşadım bu ürün bu markaya yakışmamış\"\n",
        "text4 = \"mükemmel\"\n",
        "text5 = \"tasarımı harika ancak kargo çok geç geldi ve ürün açılmıştı tavsiye etmem\"\n",
        "text6 = \"hiç resimde gösterildiği gibi değil\"\n",
        "text7 = \"kötü yorumlar gözümü korkutmuştu ancak hiçbir sorun yaşamadım teşekkürler\"\n",
        "text8 = \"hiç bu kadar kötü bir satıcıya denk gelmemiştim ürünü geri iade ediyorum\"\n",
        "text9 = \"tam bir fiyat performans ürünü\"\n",
        "text10 = \"beklediğim gibi çıkmadı\"\n",
        "texts = [text1, text2, text3, text4, text5, text6, text7, text8, text9, text10]"
      ]
    },
    {
      "cell_type": "code",
      "execution_count": null,
      "metadata": {
        "id": "j0zAGMRiV3tD"
      },
      "outputs": [],
      "source": [
        "tokens = tokenizer.texts_to_sequences(texts)"
      ]
    },
    {
      "cell_type": "code",
      "execution_count": null,
      "metadata": {
        "id": "po6VmZtKV3tD"
      },
      "outputs": [],
      "source": [
        "tokens_pad = pad_sequences(tokens, maxlen=max_tokens)\n",
        "tokens_pad.shape"
      ]
    },
    {
      "cell_type": "code",
      "execution_count": 31,
      "metadata": {
        "colab": {
          "base_uri": "https://localhost:8080/",
          "height": 175
        },
        "id": "rbFjB8DzV3tD",
        "outputId": "5255e996-e68b-48cd-e028-3d9033bbc79b"
      },
      "outputs": [
        {
          "output_type": "error",
          "ename": "NameError",
          "evalue": "ignored",
          "traceback": [
            "\u001b[0;31m---------------------------------------------------------------------------\u001b[0m",
            "\u001b[0;31mNameError\u001b[0m                                 Traceback (most recent call last)",
            "\u001b[0;32m<ipython-input-31-65919daf9c05>\u001b[0m in \u001b[0;36m<cell line: 1>\u001b[0;34m()\u001b[0m\n\u001b[0;32m----> 1\u001b[0;31m \u001b[0mmodel\u001b[0m\u001b[0;34m.\u001b[0m\u001b[0mpredict\u001b[0m\u001b[0;34m(\u001b[0m\u001b[0mtokens_pad\u001b[0m\u001b[0;34m)\u001b[0m\u001b[0;34m\u001b[0m\u001b[0;34m\u001b[0m\u001b[0m\n\u001b[0m",
            "\u001b[0;31mNameError\u001b[0m: name 'model' is not defined"
          ]
        }
      ],
      "source": [
        "model.predict(tokens_pad)"
      ]
    },
    {
      "cell_type": "code",
      "execution_count": null,
      "metadata": {
        "id": "motshMICV3tD"
      },
      "outputs": [],
      "source": []
    }
  ],
  "metadata": {
    "kernelspec": {
      "display_name": "Python 3",
      "language": "python",
      "name": "python3"
    },
    "language_info": {
      "codemirror_mode": {
        "name": "ipython",
        "version": 3
      },
      "file_extension": ".py",
      "mimetype": "text/x-python",
      "name": "python",
      "nbconvert_exporter": "python",
      "pygments_lexer": "ipython3",
      "version": "3.6.5"
    },
    "colab": {
      "provenance": [],
      "include_colab_link": true
    }
  },
  "nbformat": 4,
  "nbformat_minor": 0
}